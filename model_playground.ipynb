{
 "cells": [
  {
   "cell_type": "code",
   "execution_count": 1,
   "id": "4764fd05",
   "metadata": {},
   "outputs": [],
   "source": [
    "import torch\n",
    "import numpy as np\n",
    "import cv2"
   ]
  },
  {
   "cell_type": "code",
   "execution_count": 4,
   "id": "ef9db266",
   "metadata": {},
   "outputs": [
    {
     "name": "stderr",
     "output_type": "stream",
     "text": [
      "Using cache found in /home/tal/.cache/torch/hub/ultralytics_yolov5_master\n",
      "YOLOv5 🚀 2021-12-23 torch 1.10.1+cpu CPU\n",
      "\n",
      "Fusing layers... \n",
      "Model Summary: 213 layers, 7225885 parameters, 0 gradients\n",
      "Adding AutoShape... \n"
     ]
    }
   ],
   "source": [
    "model = torch.hub.load('ultralytics/yolov5', 'yolov5s', pretrained=True)"
   ]
  },
  {
   "cell_type": "code",
   "execution_count": 5,
   "id": "03f04abd",
   "metadata": {},
   "outputs": [
    {
     "name": "stderr",
     "output_type": "stream",
     "text": [
      "/home/tal/virtualenv_environments/py38_yolov5_pytorch/lib/python3.8/site-packages/torch/autocast_mode.py:141: UserWarning: User provided device_type of 'cuda', but CUDA is not available. Disabling\n",
      "  warnings.warn('User provided device_type of \\'cuda\\', but CUDA is not available. Disabling')\n"
     ]
    }
   ],
   "source": [
    "frame = 'runs/detect/exp/zidane.jpg'\n",
    "results = model(frame)"
   ]
  },
  {
   "cell_type": "code",
   "execution_count": 3,
   "id": "3f88d0cd",
   "metadata": {},
   "outputs": [],
   "source": [
    "frame = 'runs/detect/exp/zidane.jpg'\n",
    "image = cv2.imread(frame)\n",
    "while True:\n",
    "    cv2.imshow('frame', image)\n",
    "    if cv2.waitKey(1) == ord('q'):\n",
    "        break\n",
    "\n",
    "cv2.destroyAllWindows()"
   ]
  },
  {
   "cell_type": "code",
   "execution_count": 6,
   "id": "7192803d",
   "metadata": {},
   "outputs": [
    {
     "name": "stderr",
     "output_type": "stream",
     "text": [
      "image 1/1: 720x1280 2 persons, 1 tie\n",
      "Speed: 27.8ms pre-process, 166.9ms inference, 1.3ms NMS per image at shape (1, 3, 384, 640)\n"
     ]
    }
   ],
   "source": [
    "\n",
    "results.print()"
   ]
  },
  {
   "cell_type": "code",
   "execution_count": null,
   "id": "6452f8fa",
   "metadata": {},
   "outputs": [],
   "source": [
    "x = results.save()  # or .show()\n",
    "print(f'x={x}')"
   ]
  },
  {
   "cell_type": "code",
   "execution_count": null,
   "id": "41fe4d05",
   "metadata": {},
   "outputs": [],
   "source": [
    "x = results.show()\n",
    "print(f'x={x}')"
   ]
  },
  {
   "cell_type": "code",
   "execution_count": null,
   "id": "cd112970",
   "metadata": {},
   "outputs": [],
   "source": [
    " results.xyxy[0]"
   ]
  },
  {
   "cell_type": "code",
   "execution_count": 9,
   "id": "69ef1501",
   "metadata": {},
   "outputs": [],
   "source": [
    "while True:\n",
    "    cv2.imshow('result', np.asarray(results.imgs[0], dtype=np.uint8))\n",
    "    if cv2.waitKey(1) == ord('q'):\n",
    "        break\n",
    "\n",
    "cv2.destroyAllWindows()"
   ]
  },
  {
   "cell_type": "code",
   "execution_count": 12,
   "id": "9755bb12",
   "metadata": {},
   "outputs": [],
   "source": [
    "while True:\n",
    "    cv2.imshow('result', results.imgs[0])\n",
    "    if cv2.waitKey(1) == ord('q'):\n",
    "        break\n",
    "\n",
    "cv2.destroyAllWindows()"
   ]
  },
  {
   "cell_type": "code",
   "execution_count": null,
   "id": "156c1561",
   "metadata": {},
   "outputs": [],
   "source": [
    "print(f'results.pandas().xyxy[0]:\\n{results.pandas().xyxy[0]}')"
   ]
  },
  {
   "cell_type": "code",
   "execution_count": null,
   "id": "d60174bd",
   "metadata": {},
   "outputs": [],
   "source": [
    "results"
   ]
  },
  {
   "cell_type": "code",
   "execution_count": null,
   "id": "caa6f571",
   "metadata": {},
   "outputs": [],
   "source": [
    "cv2.imshow('result', frame)"
   ]
  },
  {
   "cell_type": "code",
   "execution_count": null,
   "id": "46464ef8",
   "metadata": {},
   "outputs": [],
   "source": [
    "cv2.imshow('result', np.asarray(results.imgs[0].pandas(), dtype=np.uint8))"
   ]
  },
  {
   "cell_type": "code",
   "execution_count": null,
   "id": "2628eff9",
   "metadata": {},
   "outputs": [],
   "source": [
    "cv2.imshow('result', np.asarray(results.imgs[1].pandas(), dtype=np.uint8))"
   ]
  }
 ],
 "metadata": {
  "kernelspec": {
   "display_name": "py38_yolov5_pytorch",
   "language": "python",
   "name": "py38_yolov5_pytorch"
  },
  "language_info": {
   "codemirror_mode": {
    "name": "ipython",
    "version": 3
   },
   "file_extension": ".py",
   "mimetype": "text/x-python",
   "name": "python",
   "nbconvert_exporter": "python",
   "pygments_lexer": "ipython3",
   "version": "3.8.10"
  }
 },
 "nbformat": 4,
 "nbformat_minor": 5
}
