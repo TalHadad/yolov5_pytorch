{
 "cells": [
  {
   "cell_type": "markdown",
   "metadata": {},
   "source": [
    "# Gym Framework"
   ]
  },
  {
   "cell_type": "code",
   "execution_count": 1,
   "metadata": {},
   "outputs": [],
   "source": [
    "import gym\n",
    "import numpy as np\n",
    "from gym import spaces"
   ]
  },
  {
   "cell_type": "code",
   "execution_count": 2,
   "metadata": {},
   "outputs": [
    {
     "ename": "SyntaxError",
     "evalue": "unexpected EOF while parsing (1776870915.py, line 18)",
     "output_type": "error",
     "traceback": [
      "\u001b[0;36m  File \u001b[0;32m\"/tmp/ipykernel_6279/1776870915.py\"\u001b[0;36m, line \u001b[0;32m18\u001b[0m\n\u001b[0;31m    print((observation_space.sample())\u001b[0m\n\u001b[0m                                      ^\u001b[0m\n\u001b[0;31mSyntaxError\u001b[0m\u001b[0;31m:\u001b[0m unexpected EOF while parsing\n"
     ]
    }
   ],
   "source": [
    "action_space = spaces.Discrete(4)\n",
    "\n",
    "#x_cord = np.array([0.0])\n",
    "#y_cord = np.array([20.0])\n",
    "#observation_space = spaces.Box(x_cord, y_cord, dtype=np.float32)\n",
    "\n",
    "x_cord = np.array([0.0, 20.0])\n",
    "y_cord = np.array([0.0, 20.0])\n",
    "#observation_space = spaces.Box(x_cord, y_cord, dtype=np.float32)\n",
    "\n",
    "#x_cord = np.array([-np.inf, np.inf])\n",
    "#y_cord = np.array([-np.inf, np.inf])\n",
    "observation_space = spaces.Box(x_cord, y_cord, dtype=np.float32)\n",
    "\n",
    "print(action_space)\n",
    "print(observation_space)\n",
    "print(observation_space.sample())\n",
    "print((observation_space.sample())"
   ]
  },
  {
   "cell_type": "code",
   "execution_count": 3,
   "metadata": {},
   "outputs": [
    {
     "name": "stdout",
     "output_type": "stream",
     "text": [
      "Discrete(4)\n",
      "0\n",
      "True\n",
      "Box([-inf  inf], [-inf  inf], (2,), float32)\n",
      "[-inf  inf]\n",
      "False\n"
     ]
    },
    {
     "name": "stderr",
     "output_type": "stream",
     "text": [
      "/home/tal/virtualenv_environments/py38_yolov5_pytorch/lib/python3.8/site-packages/gym/spaces/box.py:73: UserWarning: \u001b[33mWARN: Box bound precision lowered by casting to float32\u001b[0m\n",
      "  logger.warn(\n",
      "/home/tal/virtualenv_environments/py38_yolov5_pytorch/lib/python3.8/site-packages/gym/spaces/box.py:142: UserWarning: \u001b[33mWARN: Casting input x to numpy array.\u001b[0m\n",
      "  logger.warn(\"Casting input x to numpy array.\")\n"
     ]
    }
   ],
   "source": [
    "action_space = spaces.Discrete(4)\n",
    "\n",
    "#x_cord = np.array([0.0])\n",
    "#y_cord = np.array([20.0])\n",
    "#observation_space = spaces.Box(x_cord, y_cord, dtype=np.float32)\n",
    "\n",
    "#x_cord = np.array([0.0, 20.0])\n",
    "#y_cord = np.array([0.0, 20.0])\n",
    "#observation_space = spaces.Box(x_cord, y_cord, dtype=np.float32)\n",
    "\n",
    "x_cord = np.array([-np.inf, np.inf])\n",
    "y_cord = np.array([-np.inf, np.inf])\n",
    "observation_space = spaces.Box(x_cord, y_cord, dtype=np.float32)\n",
    "\n",
    "print(action_space)\n",
    "print(action_space.sample())\n",
    "print(action_space.contains(2))\n",
    "print(observation_space)\n",
    "print(observation_space.sample())\n",
    "print(observation_space.contains(3))"
   ]
  },
  {
   "cell_type": "code",
   "execution_count": 4,
   "metadata": {},
   "outputs": [
    {
     "ename": "SyntaxError",
     "evalue": "unexpected EOF while parsing (4287593072.py, line 21)",
     "output_type": "error",
     "traceback": [
      "\u001b[0;36m  File \u001b[0;32m\"/tmp/ipykernel_6279/4287593072.py\"\u001b[0;36m, line \u001b[0;32m21\u001b[0m\n\u001b[0;31m    print(observation_space.contains((3,3))\u001b[0m\n\u001b[0m                                           ^\u001b[0m\n\u001b[0;31mSyntaxError\u001b[0m\u001b[0;31m:\u001b[0m unexpected EOF while parsing\n"
     ]
    }
   ],
   "source": [
    "action_space = spaces.Discrete(4)\n",
    "\n",
    "#x_cord = np.array([0.0])\n",
    "#y_cord = np.array([20.0])\n",
    "#observation_space = spaces.Box(x_cord, y_cord, dtype=np.float32)\n",
    "\n",
    "#x_cord = np.array([0.0, 20.0])\n",
    "#y_cord = np.array([0.0, 20.0])\n",
    "#observation_space = spaces.Box(x_cord, y_cord, dtype=np.float32)\n",
    "\n",
    "coordinate_low = np.array([-np.inf, -np.inf])\n",
    "coordinate_high = np.array([np.inf, np.inf])\n",
    "observation_space = spaces.Box(coordinate_low, coordinate_high, dtype=np.float32)\n",
    "\n",
    "print(action_space)\n",
    "print(action_space.sample())\n",
    "print(action_space.contains(2))\n",
    "print(observation_space)\n",
    "print(observation_space.sample())\n",
    "print(observation_space.contains([3,3]))\n",
    "print(observation_space.contains((3,3))"
   ]
  },
  {
   "cell_type": "code",
   "execution_count": 6,
   "metadata": {},
   "outputs": [
    {
     "data": {
      "text/plain": [
       "()"
      ]
     },
     "execution_count": 6,
     "metadata": {},
     "output_type": "execute_result"
    }
   ],
   "source": [
    "action_space = spaces.Discrete(21)\n",
    "action_space.shape"
   ]
  },
  {
   "cell_type": "code",
   "execution_count": 7,
   "metadata": {},
   "outputs": [
    {
     "data": {
      "text/plain": [
       "(2,)"
      ]
     },
     "execution_count": 7,
     "metadata": {},
     "output_type": "execute_result"
    }
   ],
   "source": [
    "x_cord = np.array([0.0,0.0])\n",
    "y_cord = np.array([0.2, 0.2])\n",
    "observation_space = spaces.Box(x_cord, y_cord, dtype=np.float32)\n",
    "observation_space.shape"
   ]
  },
  {
   "cell_type": "code",
   "execution_count": 8,
   "metadata": {},
   "outputs": [
    {
     "data": {
      "text/plain": [
       "(1,)"
      ]
     },
     "execution_count": 8,
     "metadata": {},
     "output_type": "execute_result"
    }
   ],
   "source": [
    "x_cord = np.array([0.0])\n",
    "y_cord = np.array([0.2])\n",
    "observation_space = spaces.Box(x_cord, y_cord, dtype=np.float32)\n",
    "observation_space.shape"
   ]
  },
  {
   "cell_type": "code",
   "execution_count": 10,
   "metadata": {},
   "outputs": [
    {
     "data": {
      "text/plain": [
       "array([7, 5, 0, 2, 1, 0, 7])"
      ]
     },
     "execution_count": 10,
     "metadata": {},
     "output_type": "execute_result"
    }
   ],
   "source": [
    "action = np.random.randint(0, 10, size=7)\n",
    "action"
   ]
  },
  {
   "cell_type": "code",
   "execution_count": 11,
   "metadata": {},
   "outputs": [
    {
     "data": {
      "text/plain": [
       "nan"
      ]
     },
     "execution_count": 11,
     "metadata": {},
     "output_type": "execute_result"
    }
   ],
   "source": [
    "np.nan"
   ]
  },
  {
   "cell_type": "code",
   "execution_count": 12,
   "metadata": {},
   "outputs": [
    {
     "data": {
      "text/plain": [
       "False"
      ]
     },
     "execution_count": 12,
     "metadata": {},
     "output_type": "execute_result"
    }
   ],
   "source": [
    "a = np.nan\n",
    "a == np.nan"
   ]
  },
  {
   "cell_type": "code",
   "execution_count": 13,
   "metadata": {},
   "outputs": [
    {
     "data": {
      "text/plain": [
       "True"
      ]
     },
     "execution_count": 13,
     "metadata": {},
     "output_type": "execute_result"
    }
   ],
   "source": [
    "a is np.nan"
   ]
  },
  {
   "cell_type": "code",
   "execution_count": 16,
   "metadata": {},
   "outputs": [
    {
     "data": {
      "text/plain": [
       "2"
      ]
     },
     "execution_count": 16,
     "metadata": {},
     "output_type": "execute_result"
    }
   ],
   "source": [
    "index = np.argmax([1,2,3])\n",
    "index"
   ]
  },
  {
   "cell_type": "code",
   "execution_count": 17,
   "metadata": {},
   "outputs": [
    {
     "data": {
      "text/plain": [
       "numpy.int64"
      ]
     },
     "execution_count": 17,
     "metadata": {},
     "output_type": "execute_result"
    }
   ],
   "source": [
    "type(index)"
   ]
  },
  {
   "cell_type": "code",
   "execution_count": 18,
   "metadata": {},
   "outputs": [
    {
     "data": {
      "text/plain": [
       "2"
      ]
     },
     "execution_count": 18,
     "metadata": {},
     "output_type": "execute_result"
    }
   ],
   "source": [
    "int(index)"
   ]
  },
  {
   "cell_type": "code",
   "execution_count": null,
   "metadata": {},
   "outputs": [],
   "source": []
  },
  {
   "cell_type": "code",
   "execution_count": null,
   "metadata": {},
   "outputs": [],
   "source": []
  },
  {
   "cell_type": "code",
   "execution_count": null,
   "metadata": {},
   "outputs": [],
   "source": []
  },
  {
   "cell_type": "code",
   "execution_count": null,
   "metadata": {},
   "outputs": [],
   "source": []
  },
  {
   "cell_type": "code",
   "execution_count": null,
   "metadata": {},
   "outputs": [],
   "source": []
  },
  {
   "cell_type": "code",
   "execution_count": null,
   "metadata": {},
   "outputs": [],
   "source": []
  },
  {
   "cell_type": "code",
   "execution_count": null,
   "metadata": {},
   "outputs": [],
   "source": []
  }
 ],
 "metadata": {
  "kernelspec": {
   "display_name": "py38_yolov5_pytorch",
   "language": "python",
   "name": "py38_yolov5_pytorch"
  },
  "language_info": {
   "codemirror_mode": {
    "name": "ipython",
    "version": 3
   },
   "file_extension": ".py",
   "mimetype": "text/x-python",
   "name": "python",
   "nbconvert_exporter": "python",
   "pygments_lexer": "ipython3",
   "version": "3.8.10"
  }
 },
 "nbformat": 4,
 "nbformat_minor": 2
}
