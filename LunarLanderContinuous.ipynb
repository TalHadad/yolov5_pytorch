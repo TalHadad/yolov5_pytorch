{
 "cells": [
  {
   "cell_type": "code",
   "execution_count": 4,
   "id": "0370f3d0",
   "metadata": {},
   "outputs": [],
   "source": [
    "from deep_deterministic_policy_gradient import Agent\n",
    "import gym\n",
    "import numpy as np\n",
    "\n",
    "# from utils import plotLearning\n",
    "import matplotlib.pyplot as plt"
   ]
  },
  {
   "cell_type": "code",
   "execution_count": 5,
   "id": "0bd14171",
   "metadata": {},
   "outputs": [],
   "source": [
    "env = gym.make('LunarLanderContinuous-v2')\n",
    "env.reset()\n",
    "\n",
    "# I didn't multiply by the action space high in the function for the choose action,\n",
    "# don't worry, that'll be in the tensorflow implementation,\n",
    "# or I can leave it as an exercise to the reader, it doesn't matter for this environment.\n",
    "# when we get to an environment where it is matter, I'll be nore diligent about that.\n",
    "agent = Agent(alpha=0.000025, beta=0.00025, input_dims=[8], tau=0.001, env=env, batch_size=64, layer1_size=400, layer2_size=300, n_actions=2) # 25*10^-5, 25*10^-4\n",
    "\n",
    "# another intersting thing is that we have to set the random seed, this is not something I've done before,\n",
    "# but this is a highly sensitive learning method, so if you read the original paper they do averages over 5 runs,\n",
    "# and that's because every run is a little bit different, and I suspect that's why they had to initialize\n",
    "# the weights and biases within such a narrow range, you don't what to go all the way from +1 and -1,\n",
    "# when you constrain to something much more narrow.\n",
    "# so we have to set the numpy random seed to some value instead of none, I use 0, there are more value that is been used\n",
    "# (see what happen when you try other seed values)\n",
    "np.random.seed(0)\n",
    "\n",
    "score_history = []"
   ]
  },
  {
   "cell_type": "code",
   "execution_count": 6,
   "id": "0235a01f",
   "metadata": {},
   "outputs": [],
   "source": [
    "#for i in range(1000):\n",
    "done = False\n",
    "score = 0\n",
    "obs = env.reset()"
   ]
  },
  {
   "cell_type": "code",
   "execution_count": 13,
   "id": "ea7e5981",
   "metadata": {},
   "outputs": [],
   "source": [
    "#while not done:\n",
    "act = agent.choose_action(obs)\n",
    "env.render()\n",
    "new_state, reward, done, info = env.step(act)"
   ]
  },
  {
   "cell_type": "code",
   "execution_count": 14,
   "id": "0b1582a4",
   "metadata": {},
   "outputs": [
    {
     "data": {
      "text/plain": [
       "array([ 0.01039295,  1.4363582 ,  0.3483135 ,  0.38222322, -0.01138144,\n",
       "       -0.07759497,  0.        ,  0.        ], dtype=float32)"
      ]
     },
     "execution_count": 14,
     "metadata": {},
     "output_type": "execute_result"
    }
   ],
   "source": [
    "new_state"
   ]
  },
  {
   "cell_type": "code",
   "execution_count": 15,
   "id": "508fcfbc",
   "metadata": {},
   "outputs": [
    {
     "data": {
      "text/plain": [
       "-1.5807756576316023"
      ]
     },
     "execution_count": 15,
     "metadata": {},
     "output_type": "execute_result"
    }
   ],
   "source": [
    "reward"
   ]
  },
  {
   "cell_type": "code",
   "execution_count": 16,
   "id": "5b1e3ca7",
   "metadata": {},
   "outputs": [
    {
     "data": {
      "text/plain": [
       "False"
      ]
     },
     "execution_count": 16,
     "metadata": {},
     "output_type": "execute_result"
    }
   ],
   "source": [
    "done"
   ]
  },
  {
   "cell_type": "code",
   "execution_count": 17,
   "id": "44a428c7",
   "metadata": {},
   "outputs": [
    {
     "data": {
      "text/plain": [
       "{}"
      ]
     },
     "execution_count": 17,
     "metadata": {},
     "output_type": "execute_result"
    }
   ],
   "source": [
    "info "
   ]
  },
  {
   "cell_type": "code",
   "execution_count": 12,
   "id": "fb4e0953",
   "metadata": {},
   "outputs": [],
   "source": [
    "agent.remember(obs, act, reward, new_state, int(done))\n",
    "agent.learn()\n",
    "score += reward\n",
    "obs = new_state"
   ]
  },
  {
   "cell_type": "code",
   "execution_count": null,
   "id": "43501938",
   "metadata": {},
   "outputs": [],
   "source": [
    "# end while\n",
    "# in for\n",
    "score_history.append(score)\n",
    "print(f'episode {i} score {score} 100 game average {np.mean(score_history[-100:])}')\n",
    "if i % 25 == 0:\n",
    "    agent.save_models()"
   ]
  },
  {
   "cell_type": "code",
   "execution_count": null,
   "id": "8c740f1a",
   "metadata": {},
   "outputs": [],
   "source": [
    "# end for\n",
    "env.close()"
   ]
  }
 ],
 "metadata": {
  "kernelspec": {
   "display_name": "py38_yolov5_pytorch",
   "language": "python",
   "name": "py38_yolov5_pytorch"
  },
  "language_info": {
   "codemirror_mode": {
    "name": "ipython",
    "version": 3
   },
   "file_extension": ".py",
   "mimetype": "text/x-python",
   "name": "python",
   "nbconvert_exporter": "python",
   "pygments_lexer": "ipython3",
   "version": "3.8.10"
  }
 },
 "nbformat": 4,
 "nbformat_minor": 5
}
