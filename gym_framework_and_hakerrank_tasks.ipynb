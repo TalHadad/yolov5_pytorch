{
 "cells": [
  {
   "cell_type": "markdown",
   "metadata": {},
   "source": [
    "# Gym Framework"
   ]
  },
  {
   "cell_type": "code",
   "execution_count": null,
   "metadata": {},
   "outputs": [],
   "source": [
    "import gym\n",
    "import numpy as np\n",
    "from gym import spaces"
   ]
  },
  {
   "cell_type": "code",
   "execution_count": null,
   "metadata": {},
   "outputs": [],
   "source": [
    "action_space = spaces.Discrete(4)\n",
    "\n",
    "#x_cord = np.array([0.0])\n",
    "#y_cord = np.array([20.0])\n",
    "#observation_space = spaces.Box(x_cord, y_cord, dtype=np.float32)\n",
    "\n",
    "x_cord = np.array([0.0, 20.0])\n",
    "y_cord = np.array([0.0, 20.0])\n",
    "#observation_space = spaces.Box(x_cord, y_cord, dtype=np.float32)\n",
    "\n",
    "#x_cord = np.array([-np.inf, np.inf])\n",
    "#y_cord = np.array([-np.inf, np.inf])\n",
    "observation_space = spaces.Box(x_cord, y_cord, dtype=np.float32)\n",
    "\n",
    "print(action_space)\n",
    "print(observation_space)\n",
    "print(observation_space.sample())\n",
    "print((observation_space.sample())"
   ]
  },
  {
   "cell_type": "code",
   "execution_count": null,
   "metadata": {},
   "outputs": [],
   "source": [
    "action_space = spaces.Discrete(4)\n",
    "\n",
    "#x_cord = np.array([0.0])\n",
    "#y_cord = np.array([20.0])\n",
    "#observation_space = spaces.Box(x_cord, y_cord, dtype=np.float32)\n",
    "\n",
    "#x_cord = np.array([0.0, 20.0])\n",
    "#y_cord = np.array([0.0, 20.0])\n",
    "#observation_space = spaces.Box(x_cord, y_cord, dtype=np.float32)\n",
    "\n",
    "x_cord = np.array([-np.inf, np.inf])\n",
    "y_cord = np.array([-np.inf, np.inf])\n",
    "observation_space = spaces.Box(x_cord, y_cord, dtype=np.float32)\n",
    "\n",
    "print(action_space)\n",
    "print(action_space.sample())\n",
    "print(action_space.contains(2))\n",
    "print(observation_space)\n",
    "print(observation_space.sample())\n",
    "print(observation_space.contains(3))"
   ]
  },
  {
   "cell_type": "code",
   "execution_count": null,
   "metadata": {},
   "outputs": [],
   "source": [
    "action_space = spaces.Discrete(4)\n",
    "\n",
    "#x_cord = np.array([0.0])\n",
    "#y_cord = np.array([20.0])\n",
    "#observation_space = spaces.Box(x_cord, y_cord, dtype=np.float32)\n",
    "\n",
    "#x_cord = np.array([0.0, 20.0])\n",
    "#y_cord = np.array([0.0, 20.0])\n",
    "#observation_space = spaces.Box(x_cord, y_cord, dtype=np.float32)\n",
    "\n",
    "coordinate_low = np.array([-np.inf, -np.inf])\n",
    "coordinate_high = np.array([np.inf, np.inf])\n",
    "observation_space = spaces.Box(coordinate_low, coordinate_high, dtype=np.float32)\n",
    "\n",
    "print(action_space)\n",
    "print(action_space.sample())\n",
    "print(action_space.contains(2))\n",
    "print(observation_space)\n",
    "print(observation_space.sample())\n",
    "print(observation_space.contains([3,3]))\n",
    "print(observation_space.contains((3,3))"
   ]
  },
  {
   "cell_type": "markdown",
   "metadata": {},
   "source": [
    "# HackerRank"
   ]
  },
  {
   "cell_type": "markdown",
   "metadata": {},
   "source": [
    "##  2. Concatenate"
   ]
  },
  {
   "cell_type": "code",
   "execution_count": null,
   "metadata": {},
   "outputs": [],
   "source": [
    "\n",
    "array_1 = numpy.array([[1,2,3],[0,0,0]])\n",
    "array_2 = numpy.array([[0,0,0],[7,8,9]])\n",
    "\n",
    "print np.concatenate((array_1, array_2), axis = 1)  "
   ]
  },
  {
   "cell_type": "code",
   "execution_count": null,
   "metadata": {},
   "outputs": [],
   "source": [
    "import numpy as np\n",
    "array_1 = np.array([[1,2,3],[0,0,0]])\n",
    "array_2 = np.array([[0,0,0],[7,8,9]])\n",
    "\n",
    "print(np.concatenate((array_1, array_2), axis = 0)) "
   ]
  },
  {
   "cell_type": "code",
   "execution_count": null,
   "metadata": {},
   "outputs": [],
   "source": [
    "import numpy as np\n",
    "array_1 = np.array([[1,2,3],[0,0,0]])\n",
    "array_2 = np.array([[0,0,0],[7,8,9]])\n",
    "\n",
    "print(np.concatenate((array_1, array_2), axis = 1))   "
   ]
  },
  {
   "cell_type": "code",
   "execution_count": null,
   "metadata": {},
   "outputs": [],
   "source": [
    "import numpy\n",
    "N, M, P = map(int,input().split())\n",
    "array1 = numpy.empty(shape=(N,P))\n",
    "array2 = numpy.empty(shape=(M,P))\n",
    "\n",
    "for _ in range(N):\n",
    "    array1 = numpy.concatenate((array1, numpy.array(list(map(int, input().split())))), axis=0)\n",
    "for _ in range(M):\n",
    "    array2 = numpy.concatenate((array2, numpy.array(list(map(int, input().split())))), axis=0)\n",
    "print(numpy.concatenate((array1,array2), axis=0))"
   ]
  },
  {
   "cell_type": "code",
   "execution_count": null,
   "metadata": {},
   "outputs": [],
   "source": [
    "import numpy\n",
    "N, M, P = map(int,input().split())\n",
    "array1 = numpy.zeros(shape=(N,P), dtype=int)\n",
    "array2 = numpy.zeros(shape=(M,P), dtype=int)\n",
    "print(array1)\n",
    "print(array2)\n",
    "\n",
    "\n",
    "for _ in range(N):\n",
    "    array1 = numpy.append(array1, numpy.array(list(map(int, input().split()))), axis=0)\n",
    "for _ in range(M):\n",
    "    array2 = numpy.append(array2, numpy.array(list(map(int, input().split()))), axis=0)\n",
    "print(numpy.concatenate((array1,array2), axis=0))"
   ]
  },
  {
   "cell_type": "code",
   "execution_count": null,
   "metadata": {},
   "outputs": [],
   "source": [
    "import numpy\n",
    "N, M, P = map(int,input().split())\n",
    "array1 = numpy.zeros(shape=(N,P), dtype=int)\n",
    "array2 = numpy.zeros(shape=(M,P), dtype=int)\n",
    "print(array1)\n",
    "print(array2)\n",
    "\n",
    "\n",
    "for _ in range(N):\n",
    "    array1 = numpy.concatenate((array1, numpy.array([2,2])), axis=0)\n",
    "    #array1 = numpy.append(array1, numpy.array(list(map(int, input().split()))), axis=0)\n",
    "for _ in range(M):\n",
    "    array2 = numpy.append(array2, numpy.array(list(map(int, input().split()))), axis=0)\n",
    "print(numpy.concatenate((array1,array2), axis=0))"
   ]
  },
  {
   "cell_type": "markdown",
   "metadata": {},
   "source": [
    "## 3. Zeros and Ones"
   ]
  },
  {
   "cell_type": "code",
   "execution_count": null,
   "metadata": {},
   "outputs": [],
   "source": [
    "*array = (1,2)"
   ]
  },
  {
   "cell_type": "code",
   "execution_count": null,
   "metadata": {},
   "outputs": [],
   "source": [
    "*array = [1,2]"
   ]
  },
  {
   "cell_type": "code",
   "execution_count": null,
   "metadata": {},
   "outputs": [],
   "source": [
    "i, *array = [1,2]"
   ]
  },
  {
   "cell_type": "code",
   "execution_count": null,
   "metadata": {},
   "outputs": [],
   "source": [
    "i, *array = 1, 2"
   ]
  },
  {
   "cell_type": "code",
   "execution_count": null,
   "metadata": {},
   "outputs": [],
   "source": [
    "import numpy\n",
    "\n",
    "dims = tuple(map(int, input().split()))\n",
    "print(numpy.ones(shape=dims))\n",
    "print(numpy.zeros(shape=dims))"
   ]
  },
  {
   "cell_type": "markdown",
   "metadata": {},
   "source": [
    "## 5. Array Mathematics"
   ]
  },
  {
   "cell_type": "code",
   "execution_count": null,
   "metadata": {},
   "outputs": [],
   "source": [
    "import numpy\n",
    "\n",
    "n, m = tuple(map(int, input().strip().split()))\n",
    "print(f'{n},{m}')"
   ]
  },
  {
   "cell_type": "code",
   "execution_count": null,
   "metadata": {},
   "outputs": [],
   "source": [
    "array_1 = (np.array([input().split() for _ in range(n)], dtype=int))  \n",
    "print(f'{array_1}')"
   ]
  },
  {
   "cell_type": "code",
   "execution_count": null,
   "metadata": {},
   "outputs": [],
   "source": []
  },
  {
   "cell_type": "code",
   "execution_count": null,
   "metadata": {},
   "outputs": [],
   "source": [
    "#array_1 = [int(val) for _ in range(m) for val in input().split()]\n",
    "# dimentions n x m (n lines/rows, m columns)\n",
    "array_1 = np.array([input().strip().split() for _ in range(n)], dtype=int)\n",
    "print(f'{array_1}')"
   ]
  },
  {
   "cell_type": "code",
   "execution_count": null,
   "metadata": {},
   "outputs": [],
   "source": [
    "[int(val) for _ in range(m) for val in input().split()]\n",
    "(np.array([input().split() for _ in range(n)], dtype=int))  "
   ]
  },
  {
   "cell_type": "code",
   "execution_count": null,
   "metadata": {},
   "outputs": [],
   "source": [
    "array_1 = [int(val) for _ in range(m) for val in input().split()]\n",
    "print(f'{array_1}')"
   ]
  },
  {
   "cell_type": "code",
   "execution_count": null,
   "metadata": {},
   "outputs": [],
   "source": [
    "array_1 = [int(val) for _ in range(m) for val in input().split()]\n",
    "# dimentions n x m (n lines/rows, m columns)\n",
    "array_1 = np.array([input().strip().split() for _ in range(m))\n",
    "print(f'{array_1}')"
   ]
  },
  {
   "cell_type": "code",
   "execution_count": null,
   "metadata": {},
   "outputs": [],
   "source": [
    "#array_1 = [int(val) for _ in range(m) for val in input().split()]\n",
    "# dimentions n x m (n lines/rows, m columns)\n",
    "array_1 = np.array([input().strip().split() for _ in range(n)])\n",
    "print(f'{array_1}')"
   ]
  },
  {
   "cell_type": "code",
   "execution_count": null,
   "metadata": {},
   "outputs": [],
   "source": [
    "print(array_1)"
   ]
  },
  {
   "cell_type": "code",
   "execution_count": null,
   "metadata": {},
   "outputs": [],
   "source": [
    "#array_1 = [int(val) for _ in range(m) for val in input().split()]\n",
    "# dimentions n x m (n lines/rows, m columns)\n",
    "array_1 = np.array([input().strip().split() for _ in range(n)], dtype=np.int)\n",
    "print(f'{array_1}')"
   ]
  },
  {
   "cell_type": "code",
   "execution_count": null,
   "metadata": {},
   "outputs": [],
   "source": [
    "#array_1 = [int(val) for _ in range(m) for val in input().split()]\n",
    "# dimentions n x m (n lines/rows, m columns)\n",
    "array_1 = np.array([input().strip().split() for _ in range(n)], dtype=int)\n",
    "print(f'{array_1}')"
   ]
  },
  {
   "cell_type": "code",
   "execution_count": null,
   "metadata": {},
   "outputs": [],
   "source": [
    "assert(len(array_1)==m & len(array_1[0])==n)\n",
    "print(len(array_1))\n",
    "print(len(array_1[0]))"
   ]
  },
  {
   "cell_type": "code",
   "execution_count": null,
   "metadata": {},
   "outputs": [],
   "source": [
    "assert(len(array_1)==m & len(array_1[0])!=n)"
   ]
  },
  {
   "cell_type": "code",
   "execution_count": null,
   "metadata": {},
   "outputs": [],
   "source": [
    "assert(len(array_1)!=m & len(array_1[0])==n)"
   ]
  },
  {
   "cell_type": "code",
   "execution_count": null,
   "metadata": {},
   "outputs": [],
   "source": [
    "assert(len(array_1)==m && len(array_1[0])==n)"
   ]
  },
  {
   "cell_type": "code",
   "execution_count": null,
   "metadata": {},
   "outputs": [],
   "source": [
    "assert(len(array_1)==m & len(array_1[0])==n)"
   ]
  },
  {
   "cell_type": "code",
   "execution_count": null,
   "metadata": {},
   "outputs": [],
   "source": []
  },
  {
   "cell_type": "code",
   "execution_count": null,
   "metadata": {},
   "outputs": [],
   "source": [
    "import numpy\n",
    "\n",
    "# n, m = *map(int, input().split())\n",
    "n, m = tuple(int, input().split())\n",
    "\n",
    "# array_1 = [int(val) for _ in range(m) for val in input().split()]\n",
    "# n rows/lines, m columns\n",
    "array_1 = np.array([input().strip().split() for _ in range(n)], dtype=numpy.int)\n",
    "assert(len(array_1)==m & len(array_1[0])==n)\n",
    "print(array_1)"
   ]
  },
  {
   "cell_type": "code",
   "execution_count": null,
   "metadata": {},
   "outputs": [],
   "source": [
    "import numpy\n",
    "\n",
    "# n, m = *map(int, input().split())\n",
    "n, m = tuple(map(int, input().split()))\n",
    "\n",
    "# array_1 = [int(val) for _ in range(m) for val in input().split()]\n",
    "# n rows/lines, m columns\n",
    "array_1 = np.array([input().strip().split() for _ in range(n)], dtype=numpy.int)\n",
    "assert(len(array_1)==m & len(array_1[0])==n)\n",
    "print(array_1)"
   ]
  },
  {
   "cell_type": "code",
   "execution_count": null,
   "metadata": {},
   "outputs": [],
   "source": [
    "import numpy\n",
    "\n",
    "# n, m = *map(int, input().split())\n",
    "n, m = tuple(map(int, input().split()))\n",
    "\n",
    "# array_1 = [int(val) for _ in range(m) for val in input().split()]\n",
    "# n rows/lines, m columns\n",
    "array_1 = np.array([input().strip().split() for _ in range(n)], dtype=numpy.int)\n",
    "assert(len(array_1)==n & len(array_1[0])==m)\n",
    "print(array_1)"
   ]
  },
  {
   "cell_type": "code",
   "execution_count": null,
   "metadata": {},
   "outputs": [],
   "source": [
    "import numpy\n",
    "\n",
    "# n, m = *map(int, input().split())\n",
    "n, m = tuple(map(int, input().split()))\n",
    "\n",
    "# array_1 = [int(val) for _ in range(m) for val in input().split()]\n",
    "# n rows/lines, m columns\n",
    "array_1 = np.array([input().strip().split() for _ in range(n)], dtype=int)\n",
    "assert(len(array_1)==n & len(array_1[0])==m)\n",
    "print(array_1)"
   ]
  },
  {
   "cell_type": "code",
   "execution_count": null,
   "metadata": {},
   "outputs": [],
   "source": [
    "import numpy\n",
    "\n",
    "# n, m = *map(int, input().split())\n",
    "n, m = tuple(map(int, input().split()))\n",
    "\n",
    "# array_1 = [int(val) for _ in range(m) for val in input().split()]\n",
    "# n rows/lines, m columns\n",
    "array_1 = np.array([input().strip().split() for _ in range(n)], dtype=int)\n",
    "assert(len(array_1)==n & len(array_1[0])==m)\n",
    "print(array_1)"
   ]
  },
  {
   "cell_type": "code",
   "execution_count": null,
   "metadata": {},
   "outputs": [],
   "source": [
    "import numpy\n",
    "\n",
    "# n, m = *map(int, input().split())\n",
    "n, m = tuple(map(int, input().split()))\n",
    "\n",
    "# array_1 = [int(val) for _ in range(m) for val in input().split()]\n",
    "# n rows/lines, m columns\n",
    "array_1 = np.array([input().strip().split() for _ in range(n)], dtype=int)\n",
    "print(f'rows {len(array_1)} is n. columns (n) is {len(array_1[0])}')\n",
    "assert(len(array_1)==n & len(array_1[0])==m)\n",
    "print(array_1)"
   ]
  },
  {
   "cell_type": "code",
   "execution_count": null,
   "metadata": {},
   "outputs": [],
   "source": [
    "import numpy\n",
    "\n",
    "# n, m = *map(int, input().split())\n",
    "n, m = tuple(map(int, input().split()))\n",
    "\n",
    "# array_1 = [int(val) for _ in range(m) for val in input().split()]\n",
    "# n rows/lines, m columns\n",
    "array_1 = np.array([input().strip().split() for _ in range(n)], dtype=int)\n",
    "print(f'rows {len(array_1)} is n {n}. columns (m {m}) is {len(array_1[0])}')\n",
    "assert(len(array_1)==n & len(array_1[0])==m)\n",
    "print(array_1)"
   ]
  },
  {
   "cell_type": "code",
   "execution_count": null,
   "metadata": {},
   "outputs": [],
   "source": [
    "import numpy\n",
    "\n",
    "# n, m = *map(int, input().split())\n",
    "n, m = tuple(map(int, input().split()))\n",
    "\n",
    "# array_1 = [int(val) for _ in range(m) for val in input().split()]\n",
    "# n rows/lines, m columns\n",
    "array_1 = np.array([input().strip().split() for _ in range(n)], dtype=int)\n",
    "print(f'rows {len(array_1)} is n {n}. columns (m {m}) is {len(array_1[0])}')\n",
    "assert len(array_1)==n \n",
    "assert len(array_1[0])==m\n",
    "print(array_1)"
   ]
  },
  {
   "cell_type": "code",
   "execution_count": null,
   "metadata": {},
   "outputs": [],
   "source": [
    "import numpy\n",
    "\n",
    "# n, m = *map(int, input().split())\n",
    "n, m = tuple(map(int, input().split()))\n",
    "\n",
    "# array_1 = [int(val) for _ in range(m) for val in input().split()]\n",
    "# n rows/lines, m columns\n",
    "array_1 = np.array([input().strip().split() for _ in range(n)], dtype=int)\n",
    "print(f'rows {len(array_1)} is n {n}. columns (m {m}) is {len(array_1[0])}')\n",
    "assert len(array_1)!=n \n",
    "assert len(array_1[0])==m\n",
    "print(array_1)"
   ]
  },
  {
   "cell_type": "code",
   "execution_count": null,
   "metadata": {},
   "outputs": [],
   "source": [
    "import numpy\n",
    "\n",
    "# n, m = *map(int, input().split())\n",
    "n, m = tuple(map(int, input().split()))\n",
    "\n",
    "# array_1 = [int(val) for _ in range(m) for val in input().split()]\n",
    "# n rows/lines, m columns\n",
    "array_1 = np.array([input().strip().split() for _ in range(n)], dtype=int)\n",
    "print(f'rows {len(array_1)} is n {n}. columns (m {m}) is {len(array_1[0])}')\n",
    "assert len(array_1)==n & len(array_1[0])==m\n",
    "print(array_1)"
   ]
  },
  {
   "cell_type": "code",
   "execution_count": null,
   "metadata": {},
   "outputs": [],
   "source": [
    "import numpy\n",
    "\n",
    "# n, m = *map(int, input().split())\n",
    "n, m = tuple(map(int, input().split()))\n",
    "\n",
    "# array_1 = [int(val) for _ in range(m) for val in input().split()]\n",
    "# n rows/lines, m columns\n",
    "array_1 = np.array([input().strip().split() for _ in range(n)], dtype=int)\n",
    "print(f'rows {len(array_1)} is n {n}. columns (m {m}) is {len(array_1[0])}')\n",
    "assert(len(array_1)==n & len(array_1[0])==m)\n",
    "print(array_1)"
   ]
  },
  {
   "cell_type": "code",
   "execution_count": null,
   "metadata": {},
   "outputs": [],
   "source": [
    "import numpy\n",
    "\n",
    "# n, m = *map(int, input().split())\n",
    "n, m = tuple(map(int, input().split()))\n",
    "\n",
    "# array_1 = [int(val) for _ in range(m) for val in input().split()]\n",
    "# n rows/lines, m columns\n",
    "array_1 = np.array([input().strip().split() for _ in range(n)], dtype=int)\n",
    "print(f'len(array_1) = {len(array_1)} is rows or n = {n}.')\n",
    "print(f'len(array_1[0]) = {len(array_1[0])} is columns or m = {m}')\n",
    "assert len(array_1)==n\n",
    "assert len(array_1[0])==m\n",
    "print(array_1)"
   ]
  },
  {
   "cell_type": "code",
   "execution_count": null,
   "metadata": {},
   "outputs": [],
   "source": [
    "import numpy\n",
    "\n",
    "# n, m = *map(int, input().split())\n",
    "n, m = tuple(map(int, input().split()))\n",
    "\n",
    "# array_1 = [int(val) for _ in range(m) for val in input().split()]\n",
    "# n rows/lines, m columns\n",
    "array_1 = np.array([input().strip().split() for _ in range(n)], dtype=int)\n",
    "print(f'len(array_1) = {len(array_1)} is rows or n = {n}.')\n",
    "print(f'len(array_1[0]) = {len(array_1[0])} is columns or m = {m}')\n",
    "assert len(array_1)==n\n",
    "assert len(array_1[0])==m\n",
    "print(array_1)"
   ]
  },
  {
   "cell_type": "code",
   "execution_count": null,
   "metadata": {},
   "outputs": [],
   "source": [
    "import numpy\n",
    "\n",
    "# n, m = *map(int, input().split())\n",
    "n, m = tuple(int, input().split())\n",
    "\n",
    "# array_1 = [int(val) for _ in range(m) for val in input().split()]\n",
    "# n rows/lines, m columns\n",
    "array_1 = np.array([input().strip().split() for _ in range(n)], dtype=numpy.int)\n",
    "\n",
    "# assert(len(array_1)==m & len(array_1[0])==n)\n",
    "assert len(array_1) == n\n",
    "assert len(array_1[0]) == m\n",
    "\n",
    "array_2 = np.array([input().strip().split() for _ in range(n)], dtype=numpy.int)\n",
    "assert len(array_2) == n\n",
    "assert len(array_2[0]) == m"
   ]
  },
  {
   "cell_type": "code",
   "execution_count": null,
   "metadata": {},
   "outputs": [],
   "source": [
    "import numpy\n",
    "\n",
    "# n, m = *map(int, input().split())\n",
    "n, m = tuple(map(int, input().split()))\n",
    "\n",
    "# array_1 = [int(val) for _ in range(m) for val in input().split()]\n",
    "# n rows/lines, m columns\n",
    "array_1 = np.array([input().strip().split() for _ in range(n)], dtype=numpy.int)\n",
    "\n",
    "# assert(len(array_1)==m & len(array_1[0])==n)\n",
    "assert len(array_1) == n\n",
    "assert len(array_1[0]) == m\n",
    "\n",
    "array_2 = np.array([input().strip().split() for _ in range(n)], dtype=numpy.int)\n",
    "assert len(array_2) == n\n",
    "assert len(array_2[0]) == m\n",
    "\n",
    "print(f'{str(np.add(array_1, array_2))}')"
   ]
  },
  {
   "cell_type": "code",
   "execution_count": null,
   "metadata": {},
   "outputs": [],
   "source": [
    "import numpy\n",
    "\n",
    "# n, m = *map(int, input().split())\n",
    "n, m = tuple(map(int, input().split()))\n",
    "\n",
    "# array_1 = [int(val) for _ in range(m) for val in input().split()]\n",
    "# n rows/lines, m columns\n",
    "array_1 = np.array([input().strip().split() for _ in range(n)], dtype=numpy.int)\n",
    "\n",
    "# assert(len(array_1)==m & len(array_1[0])==n)\n",
    "assert len(array_1) == n\n",
    "assert len(array_1[0]) == m\n",
    "\n",
    "array_2 = np.array([input().strip().split() for _ in range(n)], dtype=numpy.int)\n",
    "assert len(array_2) == n\n",
    "assert len(array_2[0]) == m\n",
    "\n",
    "print(f'{str(np.add(array_1, array_2))}')"
   ]
  },
  {
   "cell_type": "code",
   "execution_count": null,
   "metadata": {},
   "outputs": [],
   "source": [
    "import numpy\n",
    "\n",
    "# n, m = *map(int, input().split())\n",
    "n, m = tuple(map(int, input().split()))\n",
    "\n",
    "# array_1 = [int(val) for _ in range(m) for val in input().split()]\n",
    "# n rows/lines, m columns\n",
    "array_1 = np.array([input().strip().split() for _ in range(n)], dtype=int)\n",
    "\n",
    "# assert(len(array_1)==m & len(array_1[0])==n)\n",
    "assert len(array_1) == n\n",
    "assert len(array_1[0]) == m\n",
    "\n",
    "array_2 = np.array([input().strip().split() for _ in range(n)], dtype=int)\n",
    "assert len(array_2) == n\n",
    "assert len(array_2[0]) == m\n",
    "\n",
    "print(f'{str(np.add(array_1, array_2))}')"
   ]
  },
  {
   "cell_type": "code",
   "execution_count": null,
   "metadata": {},
   "outputs": [],
   "source": [
    "import numpy\n",
    "\n",
    "# n, m = *map(int, input().split())\n",
    "n, m = tuple(map(int, input().split()))\n",
    "\n",
    "# array_1 = [int(val) for _ in range(m) for val in input().split()]\n",
    "# n rows/lines, m columns\n",
    "array_1 = np.array([input().strip().split() for _ in range(n)], dtype=int)\n",
    "\n",
    "# assert(len(array_1)==m & len(array_1[0])==n)\n",
    "assert len(array_1) == n\n",
    "assert len(array_1[0]) == m\n",
    "\n",
    "array_2 = np.array([input().strip().split() for _ in range(n)], dtype=int)\n",
    "assert len(array_2) == n\n",
    "assert len(array_2[0]) == m\n",
    "\n",
    "print(f'{str(np.add(array_1, array_2))}')\n",
    "print(f'{str(np.subtract(array_1, array_2))}')\n",
    "print(f'{str(np.multiply(array_1, array_2))}')\n",
    "print(f'{str(np.divide(array_1, array_2))}')\n",
    "print(f'{str(np.mod(array_1, array_2))}')\n",
    "print(f'{str(np.power(array_1, array_2))}')"
   ]
  },
  {
   "cell_type": "code",
   "execution_count": null,
   "metadata": {},
   "outputs": [],
   "source": [
    "import numpy\n",
    "\n",
    "# n, m = *map(int, input().split())\n",
    "n, m = tuple(map(int, input().split()))\n",
    "\n",
    "# array_1 = [int(val) for _ in range(m) for val in input().split()]\n",
    "# n rows/lines, m columns\n",
    "array_1 = np.array([input().strip().split() for _ in range(n)], dtype=float)\n",
    "\n",
    "# assert(len(array_1)==m & len(array_1[0])==n)\n",
    "assert len(array_1) == n\n",
    "assert len(array_1[0]) == m\n",
    "\n",
    "array_2 = np.array([input().strip().split() for _ in range(n)], dtype=float)\n",
    "assert len(array_2) == n\n",
    "assert len(array_2[0]) == m\n",
    "\n",
    "print(f'{str(np.add(array_1, array_2))}')\n",
    "print(f'{str(np.subtract(array_1, array_2))}')\n",
    "print(f'{str(np.multiply(array_1, array_2))}')\n",
    "print(f'{str(np.divide(array_1, array_2))}')\n",
    "print(f'{str(np.mod(array_1, array_2))}')\n",
    "print(f'{str(np.power(array_1, array_2))}')"
   ]
  },
  {
   "cell_type": "code",
   "execution_count": null,
   "metadata": {},
   "outputs": [],
   "source": [
    "import numpy\n",
    "\n",
    "# n, m = *map(int, input().split())\n",
    "n, m = tuple(map(int, input().split()))\n",
    "\n",
    "# array_1 = [int(val) for _ in range(m) for val in input().split()]\n",
    "# n rows/lines, m columns\n",
    "array_1 = numpy.array([input().strip().split() for _ in range(n)], dtype=float)\n",
    "\n",
    "# assert(len(array_1)==m & len(array_1[0])==n)\n",
    "assert len(array_1) == n\n",
    "assert len(array_1[0]) == m\n",
    "\n",
    "array_2 = numpy.array([input().strip().split() for _ in range(n)], dtype=float)\n",
    "assert len(array_2) == n\n",
    "assert len(array_2[0]) == m\n",
    "\n",
    "print(f'{str(numpy.add(array_1, array_2))}')\n",
    "print(f'{str(numpy.subtract(array_1, array_2))}')\n",
    "print(f'{str(numpy.multiply(array_1, array_2))}')\n",
    "print(f'{str(numpy.divide(array_1, array_2))}')\n",
    "print(f'{str(numpy.mod(array_1, array_2))}')\n",
    "print(f'{str(numpy.power(array_1, array_2))}')"
   ]
  },
  {
   "cell_type": "code",
   "execution_count": null,
   "metadata": {},
   "outputs": [],
   "source": [
    "import numpy\n",
    "\n",
    "# n, m = *map(int, input().split())\n",
    "n, m = tuple(map(int, input().split()))\n",
    "\n",
    "# array_1 = [int(val) for _ in range(m) for val in input().split()]\n",
    "# n rows/lines, m columns\n",
    "array_1 = numpy.array([input().strip().split() for _ in range(n)], dtype=int)\n",
    "\n",
    "# assert(len(array_1)==m & len(array_1[0])==n)\n",
    "assert len(array_1) == n\n",
    "assert len(array_1[0]) == m\n",
    "\n",
    "array_2 = numpy.array([input().strip().split() for _ in range(n)], dtype=int)\n",
    "assert len(array_2) == n\n",
    "assert len(array_2[0]) == m\n",
    "\n",
    "print(f'{str(numpy.add(array_1, array_2))}')\n",
    "print(f'{str(numpy.subtract(array_1, array_2))}')\n",
    "print(f'{str(numpy.multiply(array_1, array_2))}')\n",
    "print(f'{str(numpy.divide(array_1, array_2))}')\n",
    "print(f'{str(numpy.mod(array_1, array_2))}')\n",
    "print(f'{str(numpy.power(array_1, array_2))}')"
   ]
  },
  {
   "cell_type": "code",
   "execution_count": null,
   "metadata": {},
   "outputs": [],
   "source": [
    "import numpy\n",
    "\n",
    "# n, m = *map(int, input().split())\n",
    "n, m = tuple(map(int, input().split()))\n",
    "\n",
    "# array_1 = [int(val) for _ in range(m) for val in input().split()]\n",
    "# n rows/lines, m columns\n",
    "array_1 = numpy.array([input().strip().split() for _ in range(n)], dtype=int)\n",
    "\n",
    "# assert(len(array_1)==m & len(array_1[0])==n)\n",
    "assert len(array_1) == n\n",
    "assert len(array_1[0]) == m\n",
    "\n",
    "array_2 = numpy.array([input().strip().split() for _ in range(n)], dtype=int)\n",
    "assert len(array_2) == n\n",
    "assert len(array_2[0]) == m\n",
    "\n",
    "print(f'{str(numpy.add(array_1, array_2))}')\n",
    "print(f'{str(numpy.subtract(array_1, array_2))}')\n",
    "print(f'{str(numpy.multiply(array_1, array_2))}')\n",
    "print(f'{str(*(map(int, numpy.divide(array_1, array_2))))}')\n",
    "print(f'{str(numpy.mod(array_1, array_2))}')\n",
    "print(f'{str(numpy.power(array_1, array_2))}')"
   ]
  },
  {
   "cell_type": "code",
   "execution_count": null,
   "metadata": {},
   "outputs": [],
   "source": [
    "import numpy\n",
    "\n",
    "# n, m = *map(int, input().split())\n",
    "n, m = tuple(map(int, input().split()))\n",
    "\n",
    "# array_1 = [int(val) for _ in range(m) for val in input().split()]\n",
    "# n rows/lines, m columns\n",
    "array_1 = numpy.array([input().strip().split() for _ in range(n)], dtype=int)\n",
    "\n",
    "# assert(len(array_1)==m & len(array_1[0])==n)\n",
    "assert len(array_1) == n\n",
    "assert len(array_1[0]) == m\n",
    "\n",
    "array_2 = numpy.array([input().strip().split() for _ in range(n)], dtype=int)\n",
    "assert len(array_2) == n\n",
    "assert len(array_2[0]) == m\n",
    "\n",
    "print(f'{str(numpy.add(array_1, array_2))}')\n",
    "print(f'{str(numpy.subtract(array_1, array_2))}')\n",
    "print(f'{str(numpy.multiply(array_1, array_2))}')\n",
    "print(f'{str(list(map(int, numpy.divide(array_1, array_2))))}')\n",
    "print(f'{str(numpy.mod(array_1, array_2))}')\n",
    "print(f'{str(numpy.power(array_1, array_2))}')"
   ]
  },
  {
   "cell_type": "code",
   "execution_count": null,
   "metadata": {},
   "outputs": [],
   "source": [
    "import numpy\n",
    "\n",
    "# n, m = *map(int, input().split())\n",
    "n, m = tuple(map(int, input().split()))\n",
    "\n",
    "# array_1 = [int(val) for _ in range(m) for val in input().split()]\n",
    "# n rows/lines, m columns\n",
    "array_1 = numpy.array([input().strip().split() for _ in range(n)], dtype=int)\n",
    "\n",
    "# assert(len(array_1)==m & len(array_1[0])==n)\n",
    "assert len(array_1) == n\n",
    "assert len(array_1[0]) == m\n",
    "\n",
    "array_2 = numpy.array([input().strip().split() for _ in range(n)], dtype=int)\n",
    "assert len(array_2) == n\n",
    "assert len(array_2[0]) == m\n",
    "\n",
    "print(f'{str(numpy.add(array_1, array_2))}')\n",
    "print(f'{str(numpy.subtract(array_1, array_2))}')\n",
    "print(f'{str(numpy.multiply(array_1, array_2))}')\n",
    "print(f'{str(numpy.floor_divide(array_1, array_2))}')\n",
    "print(f'{str(numpy.mod(array_1, array_2))}')\n",
    "print(f'{str(numpy.power(array_1, array_2))}')"
   ]
  },
  {
   "cell_type": "code",
   "execution_count": null,
   "metadata": {},
   "outputs": [],
   "source": [
    "import numpy\n",
    "\n",
    "n, m = map(int, input().strip().split())\n",
    "arr_1, arr_2 = (np.array([input().strip().split() for _ in range(n)], dtype=int)) for _ in range(2)\n",
    "print(a+b, a-b, a*b, a/b, a%b, a**b, end='\\n')"
   ]
  },
  {
   "cell_type": "code",
   "execution_count": null,
   "metadata": {},
   "outputs": [],
   "source": [
    "import numpy\n",
    "\n",
    "n, m = map(int, input().strip().split())\n",
    "arr_1, arr_2 = (np.array([input().strip().split() for _ in range(n)], dtype=int) for _ in range(2))\n",
    "print(a+b, a-b, a*b, a/b, a%b, a**b, end='\\n')"
   ]
  },
  {
   "cell_type": "code",
   "execution_count": null,
   "metadata": {},
   "outputs": [],
   "source": [
    "import numpy\n",
    "\n",
    "n, m = map(int, input().strip().split())\n",
    "arr_1, arr_2 = (np.array([input().strip().split() for _ in range(n)], dtype=int) for _ in range(2))\n",
    "print(a+b, a-b, a*b, a/b, a%b, a**b, sep='\\n')"
   ]
  },
  {
   "cell_type": "code",
   "execution_count": null,
   "metadata": {},
   "outputs": [],
   "source": [
    "import numpy\n",
    "\n",
    "n, m = map(int, input().strip().split())\n",
    "arr_1, arr_2 = (np.array([input().strip().split() for _ in range(n)], dtype=int) for _ in range(2))\n",
    "print(a+b, a-b, a*b, a//b, a%b, a**b, sep='\\n')"
   ]
  },
  {
   "cell_type": "markdown",
   "metadata": {},
   "source": [
    "## 6. Floor, Ceil and Rint"
   ]
  },
  {
   "cell_type": "code",
   "execution_count": null,
   "metadata": {},
   "outputs": [],
   "source": [
    "import numpy\n",
    "\n",
    "array = numpy.array(*map(float, input().strip().split()))\n",
    "print(numpy.floor(array))\n",
    "print(numpy.ceil(array))\n",
    "print(numpy.rint(array))"
   ]
  },
  {
   "cell_type": "code",
   "execution_count": null,
   "metadata": {},
   "outputs": [],
   "source": [
    "import numpy\n",
    "\n",
    "array = numpy.array(map(float, input().strip().split()))\n",
    "print(numpy.floor(array))\n",
    "print(numpy.ceil(array))\n",
    "print(numpy.rint(array))"
   ]
  },
  {
   "cell_type": "code",
   "execution_count": null,
   "metadata": {},
   "outputs": [],
   "source": [
    "import numpy\n",
    "\n",
    "array = numpy.array(list(map(float, input().strip().split())))\n",
    "print(numpy.floor(array))\n",
    "print(numpy.ceil(array))\n",
    "print(numpy.rint(array))"
   ]
  },
  {
   "cell_type": "code",
   "execution_count": null,
   "metadata": {},
   "outputs": [],
   "source": [
    "import numpy\n",
    "numpy.set_print(legacy='1.13')\n",
    "\n",
    "array = numpy.array(list(map(float, input().strip().split())))\n",
    "print(numpy.floor(array))\n",
    "print(numpy.ceil(array))\n",
    "print(numpy.rint(array))"
   ]
  },
  {
   "cell_type": "code",
   "execution_count": null,
   "metadata": {},
   "outputs": [],
   "source": [
    "import numpy\n",
    "numpy.set_printoptions(legacy='1.13')\n",
    "\n",
    "array = numpy.array(list(map(float, input().strip().split())))\n",
    "print(numpy.floor(array))\n",
    "print(numpy.ceil(array))\n",
    "print(numpy.rint(array))"
   ]
  },
  {
   "cell_type": "code",
   "execution_count": null,
   "metadata": {},
   "outputs": [],
   "source": [
    "import numpy\n",
    "numpy.set_printoptions(legacy='1.13')\n",
    "\n",
    "array = numpy.array(input().strip().split(), dtype=float)))\n",
    "print(numpy.floor(array))\n",
    "print(numpy.ceil(array))\n",
    "print(numpy.rint(array))"
   ]
  },
  {
   "cell_type": "markdown",
   "metadata": {},
   "source": [
    "## 7. Sum and Prod"
   ]
  },
  {
   "cell_type": "code",
   "execution_count": null,
   "metadata": {},
   "outputs": [],
   "source": [
    "import numpy\n",
    "numpy.set_printoptions(legacy='1.13')\n",
    "\n",
    "n, m = map(int, input().strip().split())\n",
    "array = numpy.array([input().strip().split() for _ in range(n)])\n",
    "assert len(array) == n\n",
    "assert len(array[0]) == m\n",
    "column_sum = numpy.sum(array, axis=0)\n",
    "print(column_sum)\n",
    "print(numpy.prod(column_sum))"
   ]
  },
  {
   "cell_type": "code",
   "execution_count": null,
   "metadata": {},
   "outputs": [],
   "source": [
    "import numpy\n",
    "numpy.set_printoptions(legacy='1.13')\n",
    "\n",
    "n, m = map(int, input().strip().split())\n",
    "array = numpy.array([input().strip().split() for _ in range(n)], dtype=float)\n",
    "assert len(array) == n\n",
    "assert len(array[0]) == m\n",
    "column_sum = numpy.sum(array, axis=0)\n",
    "print(column_sum)\n",
    "print(numpy.prod(column_sum))"
   ]
  },
  {
   "cell_type": "code",
   "execution_count": null,
   "metadata": {},
   "outputs": [],
   "source": [
    "import numpy\n",
    "numpy.set_printoptions(legacy='1.13')\n",
    "\n",
    "n, m = map(int, input().strip().split())\n",
    "array = numpy.array([input().strip().split() for _ in range(n)], dtype=int)\n",
    "assert len(array) == n\n",
    "assert len(array[0]) == m\n",
    "#column_sum = numpy.sum(array, axis=0)\n",
    "#print(column_sum)\n",
    "print(numpy.prod(column_sum))"
   ]
  },
  {
   "cell_type": "code",
   "execution_count": null,
   "metadata": {},
   "outputs": [],
   "source": [
    "import numpy\n",
    "numpy.set_printoptions(legacy='1.13')\n",
    "\n",
    "n, m = map(int, input().strip().split())\n",
    "array = numpy.array([input().strip().split() for _ in range(n)], dtype=int)\n",
    "assert len(array) == n\n",
    "assert len(array[0]) == m\n",
    "#column_sum = numpy.sum(array, axis=0)\n",
    "#print(column_sum)\n",
    "#print(numpy.prod(column_sum))\n",
    "print(numpy.prod(numpy.sum(array, axis=0)))"
   ]
  },
  {
   "cell_type": "markdown",
   "metadata": {},
   "source": [
    "## 8. Min and Max"
   ]
  },
  {
   "cell_type": "code",
   "execution_count": null,
   "metadata": {},
   "outputs": [],
   "source": [
    "import numpy\n",
    "\n",
    "n, m = map(int, input().strip().split())\n",
    "arr = numpy.array([input().strip().split() for _ in range(n)])\n",
    "print(numpy.max(numpy.min(arr, axis=1)))"
   ]
  },
  {
   "cell_type": "code",
   "execution_count": null,
   "metadata": {},
   "outputs": [],
   "source": [
    "import numpy\n",
    "\n",
    "n, m = map(int, input().strip().split())\n",
    "arr = numpy.array([input().strip().split() for _ in range(n)], dtype=int)\n",
    "print(numpy.max(numpy.min(arr, axis=1)))"
   ]
  },
  {
   "cell_type": "markdown",
   "metadata": {},
   "source": [
    "## 9. Mean, Var, and Std"
   ]
  },
  {
   "cell_type": "code",
   "execution_count": null,
   "metadata": {},
   "outputs": [],
   "source": [
    "import numpy\n",
    "numpy.set_printoptions(leagcy='1.13')\n",
    "\n",
    "array = numpy.array([input().strip().split() for _ in range(input().strip().split()[0])])\n",
    "print(numpy.mean(array, axis=1))\n",
    "print(numpy.var(array, axis=0))\n",
    "print(numpy.std(array, axis=None))"
   ]
  },
  {
   "cell_type": "code",
   "execution_count": null,
   "metadata": {},
   "outputs": [],
   "source": [
    "import numpy\n",
    "numpy.set_printoptions(legacy='1.13')\n",
    "\n",
    "array = numpy.array([input().strip().split() for _ in range(input().strip().split()[0])])\n",
    "print(numpy.mean(array, axis=1))\n",
    "print(numpy.var(array, axis=0))\n",
    "print(numpy.std(array, axis=None))"
   ]
  },
  {
   "cell_type": "code",
   "execution_count": null,
   "metadata": {},
   "outputs": [],
   "source": [
    "import numpy\n",
    "numpy.set_printoptions(legacy='1.13')\n",
    "\n",
    "array = numpy.array([input().strip().split() for _ in range(int(input().strip().split()[0]))])\n",
    "print(numpy.mean(array, axis=1))\n",
    "print(numpy.var(array, axis=0))\n",
    "print(numpy.std(array, axis=None))"
   ]
  },
  {
   "cell_type": "code",
   "execution_count": null,
   "metadata": {},
   "outputs": [],
   "source": [
    "import numpy\n",
    "numpy.set_printoptions(legacy='1.13')\n",
    "\n",
    "array = numpy.array([input().strip().split() for _ in range(int(input().strip().split()[0]))], dtype=int)\n",
    "print(numpy.mean(array, axis=1))\n",
    "print(numpy.var(array, axis=0))\n",
    "print(numpy.std(array, axis=None))"
   ]
  },
  {
   "cell_type": "code",
   "execution_count": null,
   "metadata": {},
   "outputs": [],
   "source": [
    "import numpy\n",
    "#numpy.set_printoptions(legacy='1.13')\n",
    "\n",
    "array = numpy.array([input().strip().split() for _ in range(int(input().strip().split()[0]))], dtype=int)\n",
    "print(numpy.mean(array, axis=1))\n",
    "print(numpy.var(array, axis=0))\n",
    "print(numpy.std(array, axis=None))"
   ]
  },
  {
   "cell_type": "code",
   "execution_count": null,
   "metadata": {},
   "outputs": [],
   "source": [
    "import numpy\n",
    "#numpy.set_printoptions(legacy='1.13')\n",
    "\n",
    "array = numpy.array([input().strip().split() for _ in range(int(input().strip().split()[0]))], dtype=int)\n",
    "print(numpy.mean(array, axis=1))\n",
    "print(numpy.var(array, axis=0))\n",
    "print('{0:.11f}'.format(numpy.std(array, axis=None)))"
   ]
  },
  {
   "cell_type": "code",
   "execution_count": null,
   "metadata": {},
   "outputs": [],
   "source": [
    "import numpy\n",
    "#numpy.set_printoptions(legacy='1.13')\n",
    "\n",
    "array = numpy.array([input().strip().split() for _ in range(int(input().strip().split()[0]))], dtype=int)\n",
    "print(numpy.mean(array, axis=1))\n",
    "print(numpy.var(array, axis=0))\n",
    "print(round(numpy.std(array, axis=None), 11))\n",
    "# numpy.around(num,decimals=11)"
   ]
  },
  {
   "cell_type": "markdown",
   "metadata": {},
   "source": [
    "## 10. Dot and Cross"
   ]
  },
  {
   "cell_type": "code",
   "execution_count": null,
   "metadata": {},
   "outputs": [],
   "source": [
    "import numpy\n",
    "\n",
    "n = int(input().strip())\n",
    "a, b = [numpy.array([input().strip().split() for _ in range(n)])for _ in range(2)]\n",
    "print(numpy.dot(a,b))"
   ]
  },
  {
   "cell_type": "code",
   "execution_count": null,
   "metadata": {},
   "outputs": [],
   "source": [
    "import numpy\n",
    "\n",
    "n = int(input().strip())\n",
    "a, b = [numpy.array([input().strip().split() for _ in range(n)], dtype=int) for _ in range(2)]\n",
    "print(numpy.dot(a,b))"
   ]
  },
  {
   "cell_type": "code",
   "execution_count": null,
   "metadata": {},
   "outputs": [],
   "source": [
    "print(numpy.dot(a, b))\n",
    "print(numpy.corss(a, b))\n"
   ]
  },
  {
   "cell_type": "markdown",
   "metadata": {},
   "source": [
    "## 19. Inner and Outer"
   ]
  },
  {
   "cell_type": "code",
   "execution_count": null,
   "metadata": {},
   "outputs": [],
   "source": [
    "import numpy\n",
    "\n",
    "a, b = [numpy.array(input().strip().split(), dtype=int) for _ in range(2)]\n",
    "print(numpy.inner(a,b))\n",
    "print(numpy.outer(a,b))"
   ]
  },
  {
   "cell_type": "code",
   "execution_count": null,
   "metadata": {},
   "outputs": [],
   "source": [
    "import numpy\n",
    "\n",
    "a, b = [numpy.array(input().strip().split(), dtype=int) for _ in range(2)]\n",
    "print(np.inner(a,b), np.outer(a,b), sep='\\n')"
   ]
  },
  {
   "cell_type": "markdown",
   "metadata": {},
   "source": [
    "## 20. Polynomials"
   ]
  },
  {
   "cell_type": "code",
   "execution_count": null,
   "metadata": {},
   "outputs": [],
   "source": [
    "import numpy\n",
    "\n",
    "coefficient = map(float, input().strip().split())\n",
    "x = 1\n",
    "print(numpy.polyval(coefficient,x))\n"
   ]
  },
  {
   "cell_type": "code",
   "execution_count": null,
   "metadata": {},
   "outputs": [],
   "source": [
    "import numpy\n",
    "\n",
    "coefficient = list(map(float, input().strip().split()))\n",
    "x = int(input().strip())\n",
    "print(numpy.polyval(coefficient,x))"
   ]
  },
  {
   "cell_type": "code",
   "execution_count": null,
   "metadata": {},
   "outputs": [],
   "source": [
    "import numpy\n",
    "\n",
    "coefficient = list()\n",
    "x = int(input().strip())\n",
    "print(numpy.polyval(*map(float, input().strip().split()),x))"
   ]
  },
  {
   "cell_type": "code",
   "execution_count": null,
   "metadata": {},
   "outputs": [],
   "source": [
    "import numpy\n",
    "\n",
    "coefficient = list()\n",
    "x = 1\n",
    "print(numpy.polyval(*map(float, input().strip().split()),int(input().strip())))"
   ]
  },
  {
   "cell_type": "code",
   "execution_count": null,
   "metadata": {},
   "outputs": [],
   "source": [
    "import numpy\n",
    "\n",
    "coefficient = list()\n",
    "x = 1\n",
    "print(numpy.polyval(list(map(float, input().strip().split())),int(input().strip())))"
   ]
  },
  {
   "cell_type": "code",
   "execution_count": null,
   "metadata": {},
   "outputs": [],
   "source": [
    "import numpy\n",
    "\n",
    "coefficient = list(map(float, input().strip().split()))\n",
    "x = int(input().strip())\n",
    "print(numpy.polyval(coefficient,x))"
   ]
  },
  {
   "cell_type": "markdown",
   "metadata": {},
   "source": [
    "## 21. Linear Algebra"
   ]
  },
  {
   "cell_type": "code",
   "execution_count": null,
   "metadata": {},
   "outputs": [],
   "source": [
    "import numpy\n",
    "\n",
    "n = int(input.strip())\n",
    "array = numpy.array([input.strip().split() for _ in range(n)], dtype=float)\n",
    "print(numpy.linalg.det(array))"
   ]
  },
  {
   "cell_type": "code",
   "execution_count": null,
   "metadata": {},
   "outputs": [],
   "source": [
    "print(round(numpy.linalg.det(array),2))"
   ]
  },
  {
   "cell_type": "code",
   "execution_count": null,
   "metadata": {},
   "outputs": [],
   "source": [
    "n = int(input().strip())"
   ]
  },
  {
   "cell_type": "code",
   "execution_count": null,
   "metadata": {},
   "outputs": [],
   "source": [
    "array = numpy.array([input().strip().split() for _ in range(n)], dtype=float)"
   ]
  },
  {
   "cell_type": "code",
   "execution_count": null,
   "metadata": {},
   "outputs": [],
   "source": [
    "import numpy\n",
    "\n",
    "n = int(input().strip())\n",
    "array = numpy.array([input().strip().split() for _ in range(n)], dtype=float)\n",
    "print(round(numpy.linalg.det(array),2))"
   ]
  },
  {
   "cell_type": "code",
   "execution_count": null,
   "metadata": {},
   "outputs": [],
   "source": [
    "## 22. Detect Floating Point Number"
   ]
  },
  {
   "cell_type": "code",
   "execution_count": null,
   "metadata": {},
   "outputs": [],
   "source": [
    "# Enter your code here. Read input from STDIN. Print output to STDOUT\n",
    "\n",
    "n = int(input().strip())\n",
    "result = []\n",
    "for _ in range(n):\n",
    "    try:\n",
    "        num = float(input().strip())\n",
    "        int_num = int(num)\n",
    "        if num-int_num != 0:\n",
    "            result.add(True)\n",
    "        else:\n",
    "            result.add(False)\n",
    "    except:\n",
    "        result.add(False)\n",
    "print(*result, sep='\\n')"
   ]
  },
  {
   "cell_type": "code",
   "execution_count": null,
   "metadata": {},
   "outputs": [],
   "source": [
    "result.append(True)\n",
    "result.append(False)"
   ]
  },
  {
   "cell_type": "code",
   "execution_count": null,
   "metadata": {},
   "outputs": [],
   "source": [
    "num_str = input().strip()\n",
    "dot_index = num_str.contains('.')\n",
    "print(dot_index)"
   ]
  },
  {
   "cell_type": "code",
   "execution_count": null,
   "metadata": {},
   "outputs": [],
   "source": [
    "# Enter your code here. Read input from STDIN. Print output to STDOUT\n",
    "\n",
    "n = int(input().strip())\n",
    "result = []\n",
    "for _ in range(n):\n",
    "    try:\n",
    "        num_str = input().strip()\n",
    "        num_after_dot = int(num_str.split('.')[1])\n",
    "        num = float(num_str)\n",
    "        result.append(True)\n",
    "    except:\n",
    "        result.append(False)\n",
    "print(*result, sep='\\n')"
   ]
  },
  {
   "cell_type": "code",
   "execution_count": null,
   "metadata": {},
   "outputs": [],
   "source": [
    "# Enter your code here. Read input from STDIN. Print output to STDOUT\n",
    "import re\n",
    "n = int(input().strip())\n",
    "result = []\n",
    "for _ in range(n):\n",
    "    result.append(bool(re.match(r'^[+-]?[0-9]*[.][0-9]+', input().strip())))\n",
    "print(*result, sep='\\n')"
   ]
  },
  {
   "cell_type": "code",
   "execution_count": null,
   "metadata": {},
   "outputs": [],
   "source": [
    "result.append(bool(re.match(r'^[+-]?[0-9]*[.][0-9]+$', input().strip())))"
   ]
  },
  {
   "cell_type": "code",
   "execution_count": null,
   "metadata": {},
   "outputs": [],
   "source": [
    "# Enter your code here. Read input from STDIN. Print output to STDOUT\n",
    "import re\n",
    "n = int(input().strip())\n",
    "result = []\n",
    "for _ in range(n):\n",
    "    result.append(bool(re.match(r'^[+-]?[0-9]*[.][0-9]+$', input().strip())))\n",
    "print(*result, sep='\\n')"
   ]
  },
  {
   "cell_type": "code",
   "execution_count": null,
   "metadata": {},
   "outputs": [],
   "source": [
    "# Enter your code here. Read input from STDIN. Print output to STDOUT\n",
    "import re\n",
    "n = int(input().strip())\n",
    "result = [bool(re.match(r'^[+-]?[0-9]*[.][0-9]+$', input().strip())) for _ in range(n)]\n",
    "print(*result, sep='\\n')"
   ]
  },
  {
   "cell_type": "code",
   "execution_count": null,
   "metadata": {},
   "outputs": [],
   "source": [
    "# Enter your code here. Read input from STDIN. Print output to STDOUT\n",
    "import re\n",
    "n = int(input().strip())\n",
    "print([bool(re.match(r'^[+-]?[0-9]*[.][0-9]+$', input().strip())) for _ in range(n)], sep='\\n')\n",
    "            "
   ]
  },
  {
   "cell_type": "code",
   "execution_count": null,
   "metadata": {},
   "outputs": [],
   "source": [
    "# Enter your code here. Read input from STDIN. Print output to STDOUT\n",
    "import re\n",
    "n = int(input().strip())\n",
    "print(*[bool(re.match(r'^[+-]?[0-9]*[.][0-9]+$', input().strip())) for _ in range(n)], sep='\\n')\n",
    "            "
   ]
  },
  {
   "cell_type": "markdown",
   "metadata": {},
   "source": [
    "## 23. Re.split()"
   ]
  },
  {
   "cell_type": "code",
   "execution_count": null,
   "metadata": {},
   "outputs": [],
   "source": [
    "regex_pattern = r\"[,.]\"\t# Do not delete 'r'.\n",
    "\n",
    "import re\n",
    "print(\"\\n\".join(re.split(regex_pattern, input())))"
   ]
  },
  {
   "cell_type": "code",
   "execution_count": null,
   "metadata": {},
   "outputs": [],
   "source": [
    "import re\n",
    "print(*filter(None, re.split(r'[.,]+', input())), sep='\\n')"
   ]
  },
  {
   "cell_type": "code",
   "execution_count": null,
   "metadata": {},
   "outputs": [],
   "source": [
    "import re\n",
    "print(*(re.split(r'[.,]+', input())), sep='\\n')"
   ]
  },
  {
   "cell_type": "code",
   "execution_count": null,
   "metadata": {},
   "outputs": [],
   "source": [
    "import re\n",
    "print(*(re.split(r'[.,]', input())), sep='\\n')"
   ]
  },
  {
   "cell_type": "markdown",
   "metadata": {},
   "source": [
    "## 24. Group(), Groups() & Groupdict()\n"
   ]
  },
  {
   "cell_type": "code",
   "execution_count": null,
   "metadata": {},
   "outputs": [],
   "source": [
    "import re\n",
    "# group() = one or more subgroups of the match\n",
    "m = re.match(r'(\\w+)@(\\w+)\\.(\\w+)', 'abc@gmail.com')\n",
    "m.group(1) # abc\n",
    "m.group(2) # gmail\n",
    "m.group(3) # com\n",
    "m.group(1, 2, 3) # ('abc', 'gmail', 'com')\n",
    "# groups() = tuple containing all the subgroups of the match\n",
    "m.groups() # ('abc', 'gmail', 'com')\n",
    "# groupdict() = dictionary containing all the named subgroups of the match, keyed by the subgroup name.\n",
    "m = re.match(r'(?P<user>\\w+)@(?P<website>\\w+)\\.(?P<extension>\\w+)', 'abc@gmail.com')\n",
    "m.groupdict() # {'website': 'gmail', 'user': 'abc', 'extension': 'com'}\n",
    "\n",
    "# match() = Determine if matches at the string beginning.\n",
    "# search() = Scan string, looking for location of matches.\n",
    "# findall() = Find all substrings matches, returns them as list.\n",
    "# finditer() = Find all substrings matches, returns them as iterator.\n"
   ]
  },
  {
   "cell_type": "code",
   "execution_count": null,
   "metadata": {},
   "outputs": [],
   "source": [
    " # Enter your code here. Read input from STDIN. Print output to STDOUT \n",
    "import re\n",
    "match = re.search(r'[a-zA-Z0-9]\\1+', input().strip())\n",
    "print(match)"
   ]
  },
  {
   "cell_type": "code",
   "execution_count": null,
   "metadata": {},
   "outputs": [],
   "source": [
    " # Enter your code here. Read input from STDIN. Print output to STDOUT \n",
    "import re\n",
    "match = re.search(r'[a-zA-Z0-9]\\1+', input().strip())\n",
    "print(match.group(1) if m else -1)"
   ]
  },
  {
   "cell_type": "code",
   "execution_count": null,
   "metadata": {},
   "outputs": [],
   "source": [
    " # Enter your code here. Read input from STDIN. Print output to STDOUT \n",
    "import re\n",
    "match = re.search(r'([a-zA-Z0-9])\\1+', input().strip())\n",
    "print(match.group(1) if m else -1)"
   ]
  },
  {
   "cell_type": "code",
   "execution_count": null,
   "metadata": {},
   "outputs": [],
   "source": [
    "print(match)"
   ]
  },
  {
   "cell_type": "code",
   "execution_count": null,
   "metadata": {},
   "outputs": [],
   "source": [
    " # Enter your code here. Read input from STDIN. Print output to STDOUT \n",
    "import re\n",
    "match = re.search(r'([a-zA-Z0-9])\\1+', input().strip())\n",
    "print(match.group(1) if m else -1)"
   ]
  },
  {
   "cell_type": "code",
   "execution_count": null,
   "metadata": {},
   "outputs": [],
   "source": [
    " # Enter your code here. Read input from STDIN. Print output to STDOUT \n",
    "import re\n",
    "match = re.search(r'([a-zA-Z0-9])\\1+', input().strip())\n",
    "print(match.groups())"
   ]
  },
  {
   "cell_type": "code",
   "execution_count": null,
   "metadata": {},
   "outputs": [],
   "source": [
    "print(match.group(0))"
   ]
  },
  {
   "cell_type": "code",
   "execution_count": null,
   "metadata": {},
   "outputs": [],
   "source": [
    "print(match.group(1))\n",
    "print(match.group(2))\n",
    "print(match.group(3))\n",
    "print(match.group(4))"
   ]
  },
  {
   "cell_type": "code",
   "execution_count": null,
   "metadata": {},
   "outputs": [],
   "source": [
    " # Enter your code here. Read input from STDIN. Print output to STDOUT \n",
    "import re\n",
    "match = re.search(r'([a-zA-Z0-9])\\1+', input().strip())\n",
    "print(match.group(1) if m else -1)"
   ]
  },
  {
   "cell_type": "code",
   "execution_count": null,
   "metadata": {},
   "outputs": [],
   "source": [
    "## 25. Re.findall() & Re.finditer()"
   ]
  },
  {
   "cell_type": "code",
   "execution_count": null,
   "metadata": {},
   "outputs": [],
   "source": [
    "import re\n",
    "\n",
    "str_ = input().strip()\n",
    "match = re.findall('[QWRTYPSDFGHJKLZXCVBNMqwrtypsdfghjklzxcvbnm]([AEIOUaeiou])\\1+[QWRTYPSDFGHJKLZXCVBNMqwrtypsdfghjklzxcvbnm]', str_)\n",
    "print(*match if match else -1, sep='\\n')"
   ]
  },
  {
   "cell_type": "code",
   "execution_count": null,
   "metadata": {},
   "outputs": [],
   "source": [
    "import re\n",
    "\n",
    "str_ = input().strip()\n",
    "match = re.findall(r'[QWRTYPSDFGHJKLZXCVBNMqwrtypsdfghjklzxcvbnm][AEIOUaeiou]{2,}[QWRTYPSDFGHJKLZXCVBNMqwrtypsdfghjklzxcvbnm]', str_)\n",
    "print(*match if match else -1, sep='\\n')"
   ]
  },
  {
   "cell_type": "code",
   "execution_count": null,
   "metadata": {},
   "outputs": [],
   "source": [
    "print(m[1:len(m)] if match for m in match else -1, sep='\\n')"
   ]
  },
  {
   "cell_type": "code",
   "execution_count": null,
   "metadata": {},
   "outputs": [],
   "source": [
    "print(m[1:len(m)] for m in match if match else -1, sep='\\n')"
   ]
  },
  {
   "cell_type": "code",
   "execution_count": null,
   "metadata": {},
   "outputs": [],
   "source": [
    "print(m[1:len(m)] for m in match, sep='\\n')"
   ]
  },
  {
   "cell_type": "code",
   "execution_count": null,
   "metadata": {},
   "outputs": [],
   "source": [
    "print(*[m[1:len(m)-1] for m in match], sep='\\n')"
   ]
  },
  {
   "cell_type": "code",
   "execution_count": null,
   "metadata": {},
   "outputs": [],
   "source": [
    "print(*[m[1:len(m)] if match for m in match else -1], sep='\\n')"
   ]
  },
  {
   "cell_type": "code",
   "execution_count": null,
   "metadata": {},
   "outputs": [],
   "source": [
    "print(*[m[1:len(m)] for m in match if match else -1], sep='\\n')"
   ]
  },
  {
   "cell_type": "code",
   "execution_count": null,
   "metadata": {},
   "outputs": [],
   "source": [
    "print(*match)"
   ]
  },
  {
   "cell_type": "code",
   "execution_count": null,
   "metadata": {},
   "outputs": [],
   "source": [
    "print(*match if match else -1, sep='\\n')"
   ]
  },
  {
   "cell_type": "code",
   "execution_count": null,
   "metadata": {},
   "outputs": [],
   "source": [
    "import re\n",
    "\n",
    "str_ = input().strip()\n",
    "match = re.findall(r'[QWRTYPSDFGHJKLZXCVBNMqwrtypsdfghjklzxcvbnm][AEIOUaeiou]{2,}[QWRTYPSDFGHJKLZXCVBNMqwrtypsdfghjklzxcvbnm]', str_)\n",
    "if match:\n",
    "    print(*[m[1:len(m)-1] for m in match], sep='\\n')\n",
    "else:\n",
    "    print(str(-1))"
   ]
  },
  {
   "cell_type": "code",
   "execution_count": null,
   "metadata": {},
   "outputs": [],
   "source": [
    "# Enter your code here. Read input from STDIN. Print output to STDOUT\n",
    "import re\n",
    "\n",
    "str_ = input().strip()\n",
    "match = re.finditer(r'[QWRTYPSDFGHJKLZXCVBNMqwrtypsdfghjklzxcvbnm][AEIOUaeiou]{2,}[QWRTYPSDFGHJKLZXCVBNMqwrtypsdfghjklzxcvbnm]', str_)\n",
    "if match:\n",
    "    print(*[m.group()[1:len(m)-1] for m in match], sep='\\n')\n",
    "else:\n",
    "    print(str(-1))"
   ]
  },
  {
   "cell_type": "code",
   "execution_count": null,
   "metadata": {},
   "outputs": [],
   "source": [
    "# Enter your code here. Read input from STDIN. Print output to STDOUT\n",
    "import re\n",
    "\n",
    "str_ = input().strip()\n",
    "match = re.finditer(r'[QWRTYPSDFGHJKLZXCVBNMqwrtypsdfghjklzxcvbnm][AEIOUaeiou]{2,}[QWRTYPSDFGHJKLZXCVBNMqwrtypsdfghjklzxcvbnm]', str_)\n",
    "if match:\n",
    "    print(*[m.group()[1:len(m.group())-1] for m in match], sep='\\n')\n",
    "else:\n",
    "    print(str(-1))"
   ]
  },
  {
   "cell_type": "code",
   "execution_count": null,
   "metadata": {},
   "outputs": [],
   "source": [
    "import re\n",
    "\n",
    "S = input()\n",
    "ptrn = r\"[QWRTYPSDFGHJKLZXCVBNMqwrtypsdfghjklzxcvbnm][AEIOUaeiou]{2,}[QWRTYPSDFGHJKLZXCVBNMqwrtypsdfghjklzxcvbnm]\"\n",
    "founded_list = list(map(lambda x: x.group(1), re.finditer(ptrn, S)))\n",
    "\n",
    "if founded_list:\n",
    "    for i in founded_list:\n",
    "        print(i[1:len(i)-1])\n",
    "else:\n",
    "    print(-1)"
   ]
  },
  {
   "cell_type": "code",
   "execution_count": null,
   "metadata": {},
   "outputs": [],
   "source": [
    "import re\n",
    "\n",
    "S = input()\n",
    "ptrn = r\"[QWRTYPSDFGHJKLZXCVBNMqwrtypsdfghjklzxcvbnm][AEIOUaeiou]{2,}[QWRTYPSDFGHJKLZXCVBNMqwrtypsdfghjklzxcvbnm]\"\n",
    "founded_list = list(map(lambda x: x.group(1), re.finditer(f\"(?=({ptrn}))\", S)))\n",
    "\n",
    "if founded_list:\n",
    "    for i in founded_list:\n",
    "        print(i[1:len(i)-1])\n",
    "else:\n",
    "    print(-1)"
   ]
  },
  {
   "cell_type": "code",
   "execution_count": null,
   "metadata": {},
   "outputs": [],
   "source": [
    "# Enter your code here. Read input from STDIN. Print output to STDOUT\n",
    "import re\n",
    "\n",
    "str_ = input().strip()\n",
    "match = re.finditer(r'[QWRTYPSDFGHJKLZXCVBNMqwrtypsdfghjklzxcvbnm][AEIOUaeiou]{2,}[QWRTYPSDFGHJKLZXCVBNMqwrtypsdfghjklzxcvbnm]', str_)\n",
    "if match:\n",
    "    print(*[m.group(1)[1:len(m.group())-1] for m in match], sep='\\n')\n",
    "else:\n",
    "    print(str(-1))"
   ]
  },
  {
   "cell_type": "code",
   "execution_count": null,
   "metadata": {},
   "outputs": [],
   "source": [
    "# Enter your code here. Read input from STDIN. Print output to STDOUT\n",
    "import re\n",
    "\n",
    "str_ = input().strip()\n",
    "match = re.finditer(r'(?=([QWRTYPSDFGHJKLZXCVBNMqwrtypsdfghjklzxcvbnm][AEIOUaeiou]{2,}[QWRTYPSDFGHJKLZXCVBNMqwrtypsdfghjklzxcvbnm]))', str_)\n",
    "if match:\n",
    "    print(*[m.group(1)[1:len(m.group(1))-1] for m in match], sep='\\n')\n",
    "else:\n",
    "    print(str(-1))"
   ]
  },
  {
   "cell_type": "code",
   "execution_count": null,
   "metadata": {},
   "outputs": [],
   "source": [
    "# Enter your code here. Read input from STDIN. Print output to STDOUT\n",
    "import re\n",
    "\n",
    "str_ = input().strip()\n",
    "match = list(map(lambda x: x.group(1), re.finditer(r'(?=([QWRTYPSDFGHJKLZXCVBNMqwrtypsdfghjklzxcvbnm][AEIOUaeiou]{2,}[QWRTYPSDFGHJKLZXCVBNMqwrtypsdfghjklzxcvbnm]))', str_)))\n",
    "if match:\n",
    "    print(*[m[1:len(m)-1] for m in match], sep='\\n')\n",
    "else:\n",
    "    print(str(-1))"
   ]
  },
  {
   "cell_type": "markdown",
   "metadata": {},
   "source": [
    "## 26. Re.start() & Re.end()"
   ]
  },
  {
   "cell_type": "code",
   "execution_count": null,
   "metadata": {},
   "outputs": [],
   "source": [
    "# Enter your code here. Read input from STDIN. Print output to STDOUT\n",
    "import re\n",
    "S = input().strip()\n",
    "k = input().strip()\n",
    "\n",
    "m = re.search(k, S)\n",
    "print(*[(match.start(), match.end()) for match in m])"
   ]
  },
  {
   "cell_type": "code",
   "execution_count": null,
   "metadata": {},
   "outputs": [],
   "source": [
    "import re\n",
    "S = input().strip()\n",
    "k = input().strip()\n",
    "\n",
    "m = re.search(k, S)\n",
    "if m:\n",
    "    while m:\n",
    "        print((m.start(), m.end()))\n",
    "        m = re.search(k, S[m.start():])\n",
    "else:\n",
    "    print(str((-1,-1)))"
   ]
  },
  {
   "cell_type": "code",
   "execution_count": null,
   "metadata": {},
   "outputs": [],
   "source": [
    "# Enter your code here. Read input from STDIN. Print output to STDOUT\n",
    "import re\n",
    "S = input().strip()\n",
    "k = input().strip()\n",
    "\n",
    "index = 0\n",
    "m = re.search(k, S)\n",
    "if m:\n",
    "    while m:\n",
    "        \n",
    "        print((index+m.start(), index+m.end()-1))\n",
    "        S= S[index+m.start()+1:]\n",
    "        index += m.start()+1\n",
    "        m = re.search(k, S)\n",
    "        \n",
    "else:\n",
    "    print(str((-1,-1)))"
   ]
  },
  {
   "cell_type": "code",
   "execution_count": null,
   "metadata": {},
   "outputs": [],
   "source": [
    "import re\n",
    "S = input().strip()\n",
    "k = input().strip()\n",
    "\n",
    "index = 0\n",
    "m = re.search(k, S)\n",
    "if m:\n",
    "    while m:\n",
    "        \n",
    "        print((m.start(), m.end()-1))\n",
    "        S= S[index+m.start()+1:]\n",
    "        index += m.start()+1\n",
    "        m = re.search(k, S, m.start()+1)\n",
    "        \n",
    "else:\n",
    "    print(str((-1,-1)))"
   ]
  },
  {
   "cell_type": "code",
   "execution_count": null,
   "metadata": {},
   "outputs": [],
   "source": [
    "# Enter your code here. Read input from STDIN. Print output to STDOUT\n",
    "import re\n",
    "S = input().strip()\n",
    "k = input().strip()\n",
    "\n",
    "index = 0\n",
    "m = re.search(k, S)\n",
    "if m:\n",
    "    while m:\n",
    "        \n",
    "        print((index+m.start(), index+m.end()-1))\n",
    "        S= S[index+m.start()+1:]\n",
    "        m = re.search(k, S)\n",
    "        if m:\n",
    "            index += m.start()+1\n",
    "        \n",
    "else:\n",
    "    print(str((-1,-1)))"
   ]
  },
  {
   "cell_type": "code",
   "execution_count": null,
   "metadata": {},
   "outputs": [],
   "source": [
    "S = input()\n",
    "k = input()\n",
    "import re\n",
    "pattern = re.compile(k)\n",
    "r = pattern.search(S)\n",
    "if not r: \n",
    "    print(str((-1, -1)))\n",
    "while r:\n",
    "    print((r.start(), r.end() - 1))\n",
    "    r = pattern.search(S,r.start() + 1)"
   ]
  },
  {
   "cell_type": "code",
   "execution_count": null,
   "metadata": {},
   "outputs": [],
   "source": [
    "import re\n",
    "\n",
    "s = input()\n",
    "k = input()\n",
    "index = 0\n",
    "\n",
    "if re.search(k, s):\n",
    "    while index+len(k) < len(s):\n",
    "        m = re.search(k, s[index:]) #begins search with new index\n",
    "        \n",
    "        print(\"({0}, {1})\".format(index+m.start(), index+m.end()-1)) \n",
    "        \n",
    "        index += m.start() + 1 #assign new index by +1 \n",
    "else:\n",
    "    print((-1, -1))"
   ]
  },
  {
   "cell_type": "code",
   "execution_count": null,
   "metadata": {},
   "outputs": [],
   "source": [
    "import re\n",
    "\n",
    "s = input()\n",
    "k = input()\n",
    "index = 0\n",
    "m = re.search(k,s)\n",
    "if m:\n",
    "    while index+len(k) < len(s):\n",
    "        m = re.search(k, s[index:]) #begins search with new index      \n",
    "        print((index+m.start(), index+m.end()-1)) \n",
    "        index += m.start() + 1 #assign new index by +1 \n",
    "else:\n",
    "    print((-1, -1))\n"
   ]
  },
  {
   "cell_type": "code",
   "execution_count": null,
   "metadata": {},
   "outputs": [],
   "source": [
    "# Enter your code here. Read input from STDIN. Print output to STDOUT\n",
    "import re\n",
    "S = input().strip()\n",
    "k = input().strip()\n",
    "\n",
    "index = 0\n",
    "m = re.search(k, S)\n",
    "if m:\n",
    "    while m:\n",
    "        print((index+m.start(), index+m.end()-1))\n",
    "        S= S[m.start()+1:]\n",
    "        index += m.start()+1\n",
    "        m = re.search(k, S)\n",
    "else:\n",
    "    print(str((-1,-1)))"
   ]
  },
  {
   "cell_type": "code",
   "execution_count": null,
   "metadata": {},
   "outputs": [],
   "source": [
    "import re\n",
    "s = input()\n",
    "k = input()\n",
    "len_s = len(s)\n",
    "index = 0\n",
    "m = re.search(k,s)\n",
    "if m:\n",
    "    while m:\n",
    "        print((index+m.start(), index+m.end()-1))\n",
    "        s= s[m.start()+1:]\n",
    "        index += m.start()+1\n",
    "        m = re.search(k, s)\n",
    "else:\n",
    "    print((-1, -1))"
   ]
  },
  {
   "cell_type": "code",
   "execution_count": null,
   "metadata": {},
   "outputs": [],
   "source": [
    "# Enter your code here. Read input from STDIN. Print output to STDOUT\n",
    "import re\n",
    "S = input().strip()\n",
    "k = input().strip()\n",
    "\n",
    "index = 0\n",
    "m = re.search(k, S)\n",
    "if m:\n",
    "    while m:\n",
    "        print((index+m.start(), index+m.end()-1))\n",
    "        S= S[m.start()+1:]\n",
    "        index += m.start()+1\n",
    "        m = re.search(k, S)\n",
    "else:\n",
    "    print(str((-1,-1)))"
   ]
  },
  {
   "cell_type": "markdown",
   "metadata": {},
   "source": [
    "## 27. Regex Substitution"
   ]
  },
  {
   "cell_type": "code",
   "execution_count": null,
   "metadata": {},
   "outputs": [],
   "source": [
    "# Enter your code here. Read input from STDIN. Print output to STDOUT   \n",
    "import re\n",
    "\n",
    "n = int(input().strip())\n",
    "lines = [input().strip() for _ in range(n)]\n",
    "modified_lines = [re.sub('\\s&&\\s', '\\sand\\s', line) for line in lines]\n",
    "modified_lines = [re.sub('\\s\\|\\|\\s', '\\sor\\s', line) for line in modified_lines]\n",
    "print(*modified_lines, sep='\\n') "
   ]
  },
  {
   "cell_type": "code",
   "execution_count": null,
   "metadata": {},
   "outputs": [],
   "source": [
    "modified_lines = [re.sub(r'\\s&&\\s', r'\\sand\\s', line) for line in lines]\n",
    "modified_lines = [re.sub(r'\\s\\|\\|\\s', r'\\sor\\s', line) for line in modified_lines]"
   ]
  },
  {
   "cell_type": "code",
   "execution_count": null,
   "metadata": {},
   "outputs": [],
   "source": [
    "modified_lines = [re.sub(r' && ', r' and ', line) for line in lines]\n",
    "modified_lines = [re.sub(r' \\|\\| ', r' or ', line) for line in modified_lines]"
   ]
  },
  {
   "cell_type": "code",
   "execution_count": null,
   "metadata": {},
   "outputs": [],
   "source": [
    "modified_lines = [re.sub(r' (\\&\\&|\\|\\|) ', (lambda x: r' and ' if x.group()==' && ' else r' or '), line) for line in lines]"
   ]
  },
  {
   "cell_type": "code",
   "execution_count": null,
   "metadata": {},
   "outputs": [],
   "source": [
    "modified_lines = [re.sub(r'(?<=\\s)(\\&\\&|\\|\\|)(?=\\s)', (lambda x: 'and' if x.group()=='&&' else r'or'), line) for line in lines]"
   ]
  },
  {
   "cell_type": "code",
   "execution_count": null,
   "metadata": {},
   "outputs": [],
   "source": [
    "modified_lines = [re.sub(r'(?<= )(&&|\\|\\|)(?= )', lambda x: 'and' if x.group() == '&&' else 'or', line) for line in lines]"
   ]
  },
  {
   "cell_type": "code",
   "execution_count": null,
   "metadata": {},
   "outputs": [],
   "source": [
    "import re\n",
    "N = int(input())\n",
    "\n",
    "for i in range(N):\n",
    "    print(re.sub(r'(?<= )(&&|\\|\\|)(?= )', lambda x: 'and' if x.group() == '&&' else 'or', input()))"
   ]
  },
  {
   "cell_type": "code",
   "execution_count": null,
   "metadata": {},
   "outputs": [],
   "source": [
    "# Enter your code here. Read input from STDIN. Print output to STDOUT   \n",
    "import re\n",
    "\n",
    "n = int(input().strip())\n",
    "lines = [input().strip() for _ in range(n)]\n",
    "modified_lines = [re.sub(r'(?<= )(&&|\\|\\|)(?= )', lambda x: 'and' if x.group() == '&&' else 'or', line) for line in lines]\n",
    "print(*modified_lines, sep='\\n') "
   ]
  },
  {
   "cell_type": "code",
   "execution_count": null,
   "metadata": {},
   "outputs": [],
   "source": [
    "lines = [input() for _ in range(n)]"
   ]
  },
  {
   "cell_type": "code",
   "execution_count": null,
   "metadata": {},
   "outputs": [],
   "source": [
    "# Enter your code here. Read input from STDIN. Print output to STDOUT   \n",
    "import re\n",
    "\n",
    "n = int(input().strip())\n",
    "lines = [input() for _ in range(n)]\n",
    "modified_lines = [re.sub(r' && ', r' and ', line) for line in lines]\n",
    "modified_lines = [re.sub(r' \\|\\| ', r' or ', line) for line in modified_lines]\n",
    "print(*modified_lines, sep='\\n') "
   ]
  },
  {
   "cell_type": "code",
   "execution_count": null,
   "metadata": {},
   "outputs": [],
   "source": [
    "# Enter your code here. Read input from STDIN. Print output to STDOUT   \n",
    "import re\n",
    "\n",
    "n = int(input().strip())\n",
    "lines = [input() for _ in range(n)]\n",
    "modified_lines = [re.sub(r' (&&|\\|\\|) ', lambda m: ' and ' if m.group()==' && ' else ' or ', line) for line in lines]\n",
    "print(*modified_lines, sep='\\n') "
   ]
  },
  {
   "cell_type": "code",
   "execution_count": null,
   "metadata": {},
   "outputs": [],
   "source": [
    "import re\n",
    "\n",
    "n = int(input().strip())\n",
    "lines = [input() for _ in range(n)]\n",
    "modified_lines = [re.sub(r'(?<= )(&&|\\|\\|)(?= ) ', lambda m: 'and' if m=='&&' else 'or', line) for line in lines]\n",
    "print(*modified_lines, sep='\\n') "
   ]
  },
  {
   "cell_type": "code",
   "execution_count": null,
   "metadata": {},
   "outputs": [],
   "source": [
    "# Enter your code here. Read input from STDIN. Print output to STDOUT   \n",
    "import re\n",
    "\n",
    "n = int(input().strip())\n",
    "lines = [input() for _ in range(n)]\n",
    "modified_lines = [re.sub(r' (&&|\\|\\|) ', lambda m: ' and ' if m.group()==' && ' else ' or ', line) for line in lines]\n",
    "print(*modified_lines, sep='\\n') "
   ]
  },
  {
   "cell_type": "code",
   "execution_count": null,
   "metadata": {},
   "outputs": [],
   "source": [
    "# Enter your code here. Read input from STDIN. Print output to STDOUT   \n",
    "import re\n",
    "\n",
    "n = int(input().strip())\n",
    "lines = [input() for _ in range(n)]\n",
    "modified_lines = [re.sub(r'(?<= )(&&|\\|\\|)(?= )', lambda m: 'and' if m.group()=='&&' else 'or', line) for line in lines]\n",
    "print(*modified_lines, sep='\\n') "
   ]
  },
  {
   "cell_type": "markdown",
   "metadata": {},
   "source": [
    "## 28. Validating Roman Numerals"
   ]
  },
  {
   "cell_type": "code",
   "execution_count": null,
   "metadata": {},
   "outputs": [],
   "source": [
    "regex_pattern = r\"(M{0,3})?(D?C{0,3}|CD|CM)?(L?X{0,3}|XL|XC)?(V?I{0,3}|IV|IX)?\"\t# Do not delete 'r'.\n",
    "\n",
    "import re\n",
    "print(str(bool(re.match(regex_pattern, input()))))"
   ]
  },
  {
   "cell_type": "code",
   "execution_count": null,
   "metadata": {},
   "outputs": [],
   "source": [
    "regex_pattern = r\"^(M{0,3})?(D?C{0,3}|CD|CM)?(L?X{0,3}|XL|XC)?(V?I{0,3}|IV|IX)?$\"\t# Do not delete 'r'.\n",
    "\n",
    "import re\n",
    "print(str(bool(re.match(regex_pattern, input()))))"
   ]
  },
  {
   "cell_type": "markdown",
   "metadata": {},
   "source": [
    "## 29. Validating Phone Numbers"
   ]
  },
  {
   "cell_type": "code",
   "execution_count": null,
   "metadata": {},
   "outputs": [],
   "source": [
    "# Enter your code here. Read input from STDIN. Print output to STDOUT\n",
    "import re\n",
    "n = int(input().strip())\n",
    "\n",
    "is_phone_num = [bool(re.match('^[789][0-9]{9}$', input().strip())) for _ in range(n)]\n",
    "print(*['YES' for ans in is_phone_num if ans else 'NO'], sep='\\n')"
   ]
  },
  {
   "cell_type": "code",
   "execution_count": null,
   "metadata": {},
   "outputs": [],
   "source": [
    "# Enter your code here. Read input from STDIN. Print output to STDOUT\n",
    "import re\n",
    "n = int(input().strip())\n",
    "\n",
    "is_phone_num = [bool(re.match('^[789][0-9]{9}$', input().strip())) for _ in range(n)]\n",
    "print(*['YES' if ans else 'NO' for ans in is_phone_num], sep='\\n')"
   ]
  },
  {
   "cell_type": "code",
   "execution_count": null,
   "metadata": {},
   "outputs": [],
   "source": [
    "import re\n",
    "[print('YES' if re.match(r'^[789]\\d{9}$',input()) else 'NO') for _ in range(int(input()))]"
   ]
  },
  {
   "cell_type": "markdown",
   "metadata": {},
   "source": [
    "## 30. Validating and Parsing Email Addresses"
   ]
  },
  {
   "cell_type": "code",
   "execution_count": null,
   "metadata": {},
   "outputs": [],
   "source": [
    "# Enter your code here. Read input from STDIN. Print output to STDOUT\n",
    "import email.utils\n",
    "import re\n",
    "\n",
    "n = int(input().strip())\n",
    "name_email_pairs = [email.utils.parseaddr(input().strip()) for _ in range(n)]\n",
    "def filter_email(pair: tuple) -> bool:\n",
    "    return re.match(r'^[a-zA-Z][a-zA-Z0-9\\.\\_\\-]+@[a-zA-Z]+\\.[a-zA-Z]{1,3}',pair[1])\n",
    "filtered_pairs = list(filter(filter_email, name_email_pairs))\n",
    "[print(email.utils.formataddr(pair)) for pair in filtered_pairs]"
   ]
  },
  {
   "cell_type": "code",
   "execution_count": null,
   "metadata": {},
   "outputs": [],
   "source": [
    "return re.match(r'^[a-zA-Z](\\w|-|\\.|_)+@[a-zA-Z]+\\.[a-zA-Z]{1,3}', pair[1])"
   ]
  },
  {
   "cell_type": "code",
   "execution_count": null,
   "metadata": {},
   "outputs": [],
   "source": [
    "# Enter your code here. Read input from STDIN. Print output to STDOUT\n",
    "import email.utils\n",
    "import re\n",
    "\n",
    "n = int(input().strip())\n",
    "name_email_pairs = [email.utils.parseaddr(input().strip()) for _ in range(n)]\n",
    "for pair in name_email_pairs:\n",
    "    m = re.match(r'^[a-zA-Z](\\w|-|\\.|_)+@[a-zA-Z]+\\.[a-zA-Z]{1,3}', pair[1])\n",
    "    if m:\n",
    "        print(email.utils.formataddr(pair))\n"
   ]
  },
  {
   "cell_type": "code",
   "execution_count": null,
   "metadata": {},
   "outputs": [],
   "source": [
    "# Enter your code here. Read input from STDIN. Print output to STDOUT\n",
    "import email.utils\n",
    "import re\n",
    "\n",
    "n = int(input().strip())\n",
    "name_email_pairs = [email.utils.parseaddr(input().strip()) for _ in range(n)]\n",
    "for pair in name_email_pairs:\n",
    "    m = re.match(r'^[a-zA-Z](\\w|-|\\.|_)+@[a-zA-Z]+\\.[a-zA-Z]{1,3}$', pair[1])\n",
    "    if m:\n",
    "        print(email.utils.formataddr(pair))"
   ]
  },
  {
   "cell_type": "code",
   "execution_count": null,
   "metadata": {},
   "outputs": [],
   "source": [
    "# Enter your code here. Read input from STDIN. Print output to STDOUT\n",
    "import email.utils\n",
    "import re\n",
    "\n",
    "n = int(input().strip())\n",
    "name_email_pairs = [email.utils.parseaddr(input().strip()) for _ in range(n)]\n",
    "def filter_email(pair: tuple) -> bool:\n",
    "    return re.match(r'^[a-zA-Z][a-zA-Z0-9\\.\\_\\-]+@[a-zA-Z]+\\.[a-zA-Z]{1,3}$',pair[1])\n",
    "filtered_pairs = list(filter(filter_email, name_email_pairs))\n",
    "[print(email.utils.formataddr(pair)) for pair in filtered_pairs]"
   ]
  },
  {
   "cell_type": "markdown",
   "metadata": {},
   "source": [
    "## 31. Hex Color Code"
   ]
  },
  {
   "cell_type": "code",
   "execution_count": null,
   "metadata": {},
   "outputs": [],
   "source": [
    "# Enter your code here. Read input from STDIN. Print output to STDOUT\n",
    "import re\n",
    "line_num = int(input().strip())\n",
    "\n",
    "lines = [input().strip() for _ in range(line_num)]\n",
    "\n",
    "colors = [color for line in lines for color in re.finditer(r'#[0-9a-fA-F]{3,6}(?=^[0-9a-zA-Z])', line)]\n",
    "print('\\n'.join(colors))"
   ]
  },
  {
   "cell_type": "code",
   "execution_count": null,
   "metadata": {},
   "outputs": [],
   "source": [
    "colors = [color for line in lines for color in re.findall(r'#[0-9a-fA-F]{3,6}(?=^[0-9a-zA-Z])', line)]"
   ]
  },
  {
   "cell_type": "code",
   "execution_count": null,
   "metadata": {},
   "outputs": [],
   "source": [
    "colors = [color for line in lines for color in re.findall(r'#[0-9a-fA-F]{3,6}', line)]"
   ]
  },
  {
   "cell_type": "code",
   "execution_count": null,
   "metadata": {},
   "outputs": [],
   "source": [
    "colors = [color for line in lines for color in re.finditer(r'#[0-9a-fA-F]{3,6}(?=[^0-9a-zA-Z])', line)]"
   ]
  },
  {
   "cell_type": "code",
   "execution_count": null,
   "metadata": {},
   "outputs": [],
   "source": [
    "colors = [color for line in lines for color in re.findall(r'#[0-9a-fA-F]{3,6}(?=[^0-9a-zA-Z])', line)]"
   ]
  },
  {
   "cell_type": "code",
   "execution_count": null,
   "metadata": {},
   "outputs": [],
   "source": [
    "colors = [color for line in lines for color in re.findall(r'#(?:[0-9a-fA-F]{3}){1,2}(?=[^0-9a-zA-Z])', line)]"
   ]
  },
  {
   "cell_type": "code",
   "execution_count": null,
   "metadata": {},
   "outputs": [],
   "source": [
    "colors = [color for line in lines for color in re.findall(r'#(?:[0-9a-fA-F]{3}){1,2}', line)]"
   ]
  },
  {
   "cell_type": "code",
   "execution_count": null,
   "metadata": {},
   "outputs": [],
   "source": [
    "colors = [color for line in lines for color in re.findall(r'(?!^)#(?:[0-9a-fA-F]{3}){1,2}', line)]"
   ]
  },
  {
   "cell_type": "markdown",
   "metadata": {},
   "source": [
    "## 32. HTML Parser - Part 1"
   ]
  },
  {
   "cell_type": "code",
   "execution_count": null,
   "metadata": {},
   "outputs": [],
   "source": []
  }
 ],
 "metadata": {
  "kernelspec": {
   "display_name": "py38_yolov5_pytorch",
   "language": "python",
   "name": "py38_yolov5_pytorch"
  },
  "language_info": {
   "codemirror_mode": {
    "name": "ipython",
    "version": 3
   },
   "file_extension": ".py",
   "mimetype": "text/x-python",
   "name": "python",
   "nbconvert_exporter": "python",
   "pygments_lexer": "ipython3",
   "version": "3.8.10"
  }
 },
 "nbformat": 4,
 "nbformat_minor": 2
}
